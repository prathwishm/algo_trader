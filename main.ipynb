{
 "cells": [
  {
   "cell_type": "code",
   "execution_count": 1,
   "metadata": {},
   "outputs": [],
   "source": [
    "from login_using_selenium import login_using_selenium\n",
    "from telegram_bot import telegram_bot_sendtext\n",
    "from ticker_service import Ticker_class\n",
    "from orders import Class_Orders\n",
    "from functions_collections import Kite_functions\n",
    "from config import kite_username, kite_password, kite_pin\n",
    "from kite_ext_new import KiteExt_new\n",
    "from redis import Redis\n",
    "import datetime\n",
    "import time\n",
    "import traceback\n",
    "import subprocess\n",
    "from straddle_strategy2 import straddles\n",
    "import logging\n",
    "\n",
    "logger = logging.getLogger(__name__)\n",
    "logger.setLevel(logging.INFO)\n",
    "\n",
    "file_handler = logging.FileHandler('main.log')\n",
    "file_handler.setFormatter(logging.Formatter('%(asctime)s:%(levelname)s:%(name)s:%(message)s'))\n",
    "logger.addHandler(file_handler)\n",
    "\n",
    "redis_server = subprocess.Popen('redis-server')\n",
    "\n",
    "redis_obj = Redis(host='127.0.0.1', port=6379, decode_responses=True)"
   ]
  },
  {
   "cell_type": "code",
   "execution_count": 2,
   "metadata": {},
   "outputs": [],
   "source": [
    "telegram_bot_sendtext('Starting Algo...')\n",
    "\n",
    "kite = KiteExt_new()\n",
    "\n",
    "#selenium_login_status = login_using_selenium()\n",
    "selenium_login_status = True\n",
    "\n",
    "if selenium_login_status:\n",
    "    with open('enctoken.txt', 'r') as enctoken_file:\n",
    "        enctoken = enctoken_file.read()\n",
    "        kite.login_using_enctoken(kite_username, enctoken, None)\n",
    "\n",
    "else:\n",
    "    logger.info(\"Logging in using Kiteext\")\n",
    "    telegram_bot_sendtext(\"Logging in using Kiteext\")\n",
    "    kite.login_with_credentials(userid=kite_username, password=kite_password, pin=kite_pin)"
   ]
  },
  {
   "cell_type": "code",
   "execution_count": 3,
   "metadata": {},
   "outputs": [],
   "source": [
    "ticker = Ticker_class(kite=kite, tokens = [256265, 260105])\n",
    "kite_func = Kite_functions(kite)\n",
    "orders_obj = Class_Orders(kite = kite, redis_obj = redis_obj, kite_functions = kite_func)\n",
    "\n",
    "#straddles_obj = straddles(kite=kite, kite_func= kite_func, orders_obj = orders_obj, margin=1)\n",
    "straddles_obj = straddles(kite=kite, kite_func= kite_func, orders_obj = orders_obj, redis_obj = redis_obj, ticker = ticker, margin=1)"
   ]
  },
  {
   "cell_type": "code",
   "execution_count": 4,
   "metadata": {},
   "outputs": [],
   "source": [
    "#ticker.tokens = straddles_obj.nf_bnf_option_tokens\n",
    "ticker.start_ticker()"
   ]
  },
  {
   "cell_type": "code",
   "execution_count": null,
   "metadata": {},
   "outputs": [],
   "source": [
    "current_dt = datetime.datetime.now()\n",
    "error_count = 0\n",
    "while current_dt.hour <= 15 and not (current_dt.hour >= 15 and current_dt.minute >= 30):\n",
    "    try:\n",
    "        current_dt = datetime.datetime.now()\n",
    "        if current_dt.hour == 15 and current_dt.minute >= 11:\n",
    "            #Exit from all open positions at 3:15.\n",
    "            # kite_day_positions_list = kite_func.get_positions_list()['net']\n",
    "            # for each_position in kite_day_positions_list:\n",
    "            #     try:\n",
    "            #         if each_position['quantity'] != 0 and each_position['product'] == 'MIS':\n",
    "            #             stock = each_position['tradingsymbol']\n",
    "            #             exit_quantity = abs(each_position['quantity'])\n",
    "            #             exit_type = \"sell\" if each_position['quantity'] > 0 else \"buy\"\n",
    "            #             if exit_quantity > 0:\n",
    "            #                 orders_obj.exit_position(stock, exit_type, exit_quantity)\n",
    "\n",
    "            #                 telegram_bot_sendtext(f\"Exiting from {stock} at 3:15\")\n",
    "            #     except Exception as e:\n",
    "            #         print(\"Unexpected error while exiting positions at 3:15. Error: \"+str(e))\n",
    "            #         traceback.print_exc()\n",
    "            break\n",
    "\n",
    "        straddles_obj.main()\n",
    "        time.sleep(2)\n",
    "\n",
    "\n",
    "    except Exception as e:\n",
    "        logger.exception(\"Unexpected error in main while loop. Error: \"+str(e))\n",
    "        traceback.print_exc()\n",
    "        error_count += 1\n",
    "        if error_count >100:\n",
    "            break\n",
    "\n",
    "    except KeyboardInterrupt:\n",
    "        logger.exception('\\nKeyboard exception received. Exiting.')\n",
    "        break\n",
    "\n",
    "logger.info('Stopping Websocket')\n",
    "ticker.kws.stop()\n",
    "redis_server.kill()"
   ]
  },
  {
   "cell_type": "code",
   "execution_count": null,
   "metadata": {},
   "outputs": [
    {
     "name": "stderr",
     "output_type": "stream",
     "text": [
      "Connection error: 1006 - connection was closed uncleanly (peer dropped the TCP connection without previous WebSocket closing handshake)\n",
      "Connection closed: 1006 - connection was closed uncleanly (peer dropped the TCP connection without previous WebSocket closing handshake)\n"
     ]
    }
   ],
   "source": [
    "ticker.kws.stop()"
   ]
  },
  {
   "cell_type": "code",
   "execution_count": 6,
   "metadata": {},
   "outputs": [
    {
     "data": {
      "text/plain": [
       "[256265, 260105]"
      ]
     },
     "execution_count": 6,
     "metadata": {},
     "output_type": "execute_result"
    }
   ],
   "source": [
    "ticker.tokens"
   ]
  },
  {
   "cell_type": "code",
   "execution_count": 3,
   "metadata": {},
   "outputs": [],
   "source": [
    "redis_server.kill()"
   ]
  },
  {
   "cell_type": "code",
   "execution_count": 6,
   "metadata": {},
   "outputs": [
    {
     "data": {
      "text/plain": [
       "(256265, 260105)"
      ]
     },
     "execution_count": 6,
     "metadata": {},
     "output_type": "execute_result"
    }
   ],
   "source": [
    "kite_func.get_symbol_token('NSE:NIFTY 50'), kite_func.get_symbol_token('NSE:NIFTY BANK')"
   ]
  },
  {
   "cell_type": "code",
   "execution_count": 16,
   "metadata": {},
   "outputs": [
    {
     "data": {
      "text/plain": [
       "[]"
      ]
     },
     "execution_count": 16,
     "metadata": {},
     "output_type": "execute_result"
    }
   ],
   "source": [
    "ticker.ticker_dict[13247234]"
   ]
  },
  {
   "cell_type": "code",
   "execution_count": 7,
   "metadata": {},
   "outputs": [
    {
     "data": {
      "text/plain": [
       "False"
      ]
     },
     "execution_count": 7,
     "metadata": {},
     "output_type": "execute_result"
    }
   ],
   "source": [
    "ticker.websocket_is_open"
   ]
  },
  {
   "cell_type": "code",
   "execution_count": 8,
   "metadata": {},
   "outputs": [
    {
     "data": {
      "text/plain": [
       "True"
      ]
     },
     "execution_count": 8,
     "metadata": {},
     "output_type": "execute_result"
    }
   ],
   "source": [
    "ticker.kws.is_connected()"
   ]
  },
  {
   "cell_type": "code",
   "execution_count": 12,
   "metadata": {},
   "outputs": [
    {
     "data": {
      "text/plain": [
       "'189.8'"
      ]
     },
     "execution_count": 12,
     "metadata": {},
     "output_type": "execute_result"
    }
   ],
   "source": [
    "redis_obj.get(11019266)"
   ]
  },
  {
   "cell_type": "code",
   "execution_count": 9,
   "metadata": {},
   "outputs": [
    {
     "data": {
      "text/plain": [
       "('BANKNIFTY2231032500PE', 13247234)"
      ]
     },
     "execution_count": 9,
     "metadata": {},
     "output_type": "execute_result"
    }
   ],
   "source": [
    "kite_func.get_options_symbol_and_token('BANKNIFTY', 32500, 'PE')"
   ]
  },
  {
   "cell_type": "code",
   "execution_count": 15,
   "metadata": {},
   "outputs": [
    {
     "data": {
      "text/plain": [
       "{'buy': [{'quantity': 50, 'price': 597.15, 'orders': 2},\n",
       "  {'quantity': 50, 'price': 596.95, 'orders': 1},\n",
       "  {'quantity': 50, 'price': 596.9, 'orders': 1},\n",
       "  {'quantity': 50, 'price': 596.8, 'orders': 1},\n",
       "  {'quantity': 50, 'price': 596.7, 'orders': 1}],\n",
       " 'sell': [{'quantity': 50, 'price': 597.75, 'orders': 2},\n",
       "  {'quantity': 50, 'price': 597.8, 'orders': 1},\n",
       "  {'quantity': 50, 'price': 597.85, 'orders': 2},\n",
       "  {'quantity': 575, 'price': 597.95, 'orders': 3},\n",
       "  {'quantity': 425, 'price': 598.0, 'orders': 2}]}"
      ]
     },
     "execution_count": 15,
     "metadata": {},
     "output_type": "execute_result"
    }
   ],
   "source": [
    "ticker.depth_dict[14662658]"
   ]
  },
  {
   "cell_type": "code",
   "execution_count": 16,
   "metadata": {},
   "outputs": [
    {
     "data": {
      "text/plain": [
       "{'buy': [{'quantity': 25, 'price': 643.6, 'orders': 1},\n",
       "  {'quantity': 25, 'price': 643.45, 'orders': 1},\n",
       "  {'quantity': 25, 'price': 643.4, 'orders': 1},\n",
       "  {'quantity': 25, 'price': 643.35, 'orders': 1},\n",
       "  {'quantity': 25, 'price': 643.3, 'orders': 1}],\n",
       " 'sell': [{'quantity': 25, 'price': 644.45, 'orders': 1},\n",
       "  {'quantity': 25, 'price': 644.5, 'orders': 1},\n",
       "  {'quantity': 25, 'price': 644.55, 'orders': 1},\n",
       "  {'quantity': 200, 'price': 644.7, 'orders': 1},\n",
       "  {'quantity': 25, 'price': 644.75, 'orders': 1}]}"
      ]
     },
     "execution_count": 16,
     "metadata": {},
     "output_type": "execute_result"
    }
   ],
   "source": [
    "ticker.depth_dict[14662658]"
   ]
  },
  {
   "cell_type": "code",
   "execution_count": 3,
   "metadata": {},
   "outputs": [
    {
     "name": "stdout",
     "output_type": "stream",
     "text": [
      "[13419266, 13419522, 13360642, 13361922, 13419778, 13420034, 13362178, 13366018, 13420290, 13420546, 13366274, 13367554, 13420802, 13421058, 13367810, 13369602, 13421314, 13421570, 13369858, 13371138, 13421826, 13422082, 13371394, 13371650, 13422338, 13422594, 13371906, 13372162, 13422850, 13423106, 13372418, 13372674, 13423362, 13423618, 13372930, 13391874, 13423874, 13424130, 13392130, 13392386, 13424386, 13424642, 13392642, 13392898, 13424898, 13425154, 13393154, 13393410, 13425410, 13425666, 13393666, 13393922, 13425922, 13426178, 13394178, 13394434, 13426434, 13426690, 13394690, 13394946, 13426946, 13427202, 13395202, 13395458, 13427458, 13427714, 13395714, 13395970, 13427970, 13428226, 13396226, 13396482, 13428482, 13428738, 13396738, 13396994, 13428994, 13429250, 13397250, 13397506, 13418754, 13419010, 13360130, 13360386, 13418242, 13418498, 13359618, 13359874, 13417730, 13417986, 13359106, 13359362, 13417218, 13417474, 13358594, 13358850, 13416706, 13416962, 13358082, 13358338, 13416194, 13416450, 13357570, 13357826, 13415682, 13415938, 13357058, 13357314, 13415170, 13415426, 13356546, 13356802, 13414658, 13414914, 13356034, 13356290, 13414146, 13414402, 13355522, 13355778, 13413634, 13413890, 13355010, 13355266, 13413122, 13413378, 13354498, 13354754, 13412610, 13412866, 13353986, 13354242, 13412098, 13412354, 13353474, 13353730, 13411586, 13411842, 13352962, 13353218, 13411074, 13411330, 13352450, 13352706, 13410562, 13410818, 13351938, 13352194, 13410050, 13410306, 13351426, 13351682, 13409538, 13409794, 13350914, 13351170, 13409026, 13409282, 13350402, 13350658]\n"
     ]
    }
   ],
   "source": [
    "kite_func = Kite_functions(kite)\n",
    "#orders_obj = Class_Orders(kite = kite, ticker = ticker, kite_functions = kite_func)\n",
    "straddles_obj = straddles(kite=kite, kite_func= kite_func, orders_obj = None, margin=1)"
   ]
  },
  {
   "cell_type": "code",
   "execution_count": 5,
   "metadata": {},
   "outputs": [
    {
     "data": {
      "text/plain": [
       "{'MCX:CRUDEOIL22MARFUT': {'instrument_token': 59736071, 'last_price': 9596}}"
      ]
     },
     "execution_count": 5,
     "metadata": {},
     "output_type": "execute_result"
    }
   ],
   "source": [
    "kite.ltp('MCX:CRUDEOIL22MARFUT')"
   ]
  },
  {
   "cell_type": "code",
   "execution_count": 3,
   "metadata": {},
   "outputs": [],
   "source": [
    "ticker = Ticker_class(kite=kite, tokens = [59736071, 60451079])"
   ]
  },
  {
   "cell_type": "code",
   "execution_count": 17,
   "metadata": {},
   "outputs": [],
   "source": [
    "256265\n",
    "ticker = Ticker_class(kite=kite, tokens = [59736071])"
   ]
  },
  {
   "cell_type": "code",
   "execution_count": 4,
   "metadata": {},
   "outputs": [
    {
     "name": "stdout",
     "output_type": "stream",
     "text": [
      "60451079 not in dict.\n",
      "59736071 not in dict.\n"
     ]
    }
   ],
   "source": [
    "ticker.start_ticker()"
   ]
  },
  {
   "cell_type": "code",
   "execution_count": 7,
   "metadata": {},
   "outputs": [],
   "source": [
    "import redis\n",
    "r = redis.Redis(host='127.0.0.1', port=6379, decode_responses=True)"
   ]
  },
  {
   "cell_type": "code",
   "execution_count": 6,
   "metadata": {},
   "outputs": [],
   "source": [
    "r = redis_obj"
   ]
  },
  {
   "cell_type": "code",
   "execution_count": 26,
   "metadata": {},
   "outputs": [
    {
     "data": {
      "text/plain": [
       "7938.0"
      ]
     },
     "execution_count": 26,
     "metadata": {},
     "output_type": "execute_result"
    }
   ],
   "source": [
    "eval(r.get(59736071))"
   ]
  },
  {
   "cell_type": "code",
   "execution_count": 7,
   "metadata": {},
   "outputs": [
    {
     "data": {
      "text/plain": [
       "{'buy': [{'quantity': 0, 'price': 0.0, 'orders': 0},\n",
       "  {'quantity': 0, 'price': 0.0, 'orders': 0},\n",
       "  {'quantity': 0, 'price': 0.0, 'orders': 0},\n",
       "  {'quantity': 0, 'price': 0.0, 'orders': 0},\n",
       "  {'quantity': 0, 'price': 0.0, 'orders': 0}],\n",
       " 'sell': [{'quantity': 790, 'price': 8589.0, 'orders': 198},\n",
       "  {'quantity': 6, 'price': 8590.0, 'orders': 6},\n",
       "  {'quantity': 1, 'price': 8591.0, 'orders': 1},\n",
       "  {'quantity': 1, 'price': 8593.0, 'orders': 1},\n",
       "  {'quantity': 1, 'price': 8595.0, 'orders': 1}]}"
      ]
     },
     "execution_count": 7,
     "metadata": {},
     "output_type": "execute_result"
    }
   ],
   "source": [
    "eval(r.get('59736071'+'_depth'))#['buy'][1]['price']"
   ]
  },
  {
   "cell_type": "code",
   "execution_count": 28,
   "metadata": {},
   "outputs": [
    {
     "data": {
      "text/plain": [
       "[[datetime.datetime(2022, 3, 8, 19, 53, 54), 9588.0, 75882],\n",
       " [datetime.datetime(2022, 3, 8, 19, 53, 57), 9585.0, 75883],\n",
       " [datetime.datetime(2022, 3, 8, 19, 53, 58), 9585.0, 75885],\n",
       " [datetime.datetime(2022, 3, 8, 19, 53, 59), 9588.0, 75891],\n",
       " [datetime.datetime(2022, 3, 8, 19, 54, 1), 9602.0, 75914],\n",
       " [datetime.datetime(2022, 3, 8, 19, 54, 2), 9602.0, 75915],\n",
       " [datetime.datetime(2022, 3, 8, 19, 54, 2), 9604.0, 75916],\n",
       " [datetime.datetime(2022, 3, 8, 19, 54, 4), 9600.0, 75917],\n",
       " [datetime.datetime(2022, 3, 8, 19, 54, 5), 9598.0, 75919],\n",
       " [datetime.datetime(2022, 3, 8, 19, 54, 5), 9597.0, 75925],\n",
       " [datetime.datetime(2022, 3, 8, 19, 54, 5), 9597.0, 75926],\n",
       " [datetime.datetime(2022, 3, 8, 19, 54, 8), 9593.0, 75936],\n",
       " [datetime.datetime(2022, 3, 8, 19, 54, 10), 9580.0, 75963],\n",
       " [datetime.datetime(2022, 3, 8, 19, 54, 10), 9577.0, 75965],\n",
       " [datetime.datetime(2022, 3, 8, 19, 54, 12), 9584.0, 75968],\n",
       " [datetime.datetime(2022, 3, 8, 19, 54, 12), 9587.0, 75970],\n",
       " [datetime.datetime(2022, 3, 8, 19, 54, 14), 9586.0, 75972],\n",
       " [datetime.datetime(2022, 3, 8, 19, 54, 16), 9584.0, 75974],\n",
       " [datetime.datetime(2022, 3, 8, 19, 54, 17), 9589.0, 75981],\n",
       " [datetime.datetime(2022, 3, 8, 19, 54, 19), 9591.0, 75983],\n",
       " [datetime.datetime(2022, 3, 8, 19, 54, 20), 9591.0, 75985],\n",
       " [datetime.datetime(2022, 3, 8, 19, 54, 21), 9592.0, 75995],\n",
       " [datetime.datetime(2022, 3, 8, 19, 54, 24), 9593.0, 75996],\n",
       " [datetime.datetime(2022, 3, 8, 19, 54, 25), 9589.0, 76001],\n",
       " [datetime.datetime(2022, 3, 8, 19, 54, 29), 9593.0, 76002],\n",
       " [datetime.datetime(2022, 3, 8, 19, 54, 30), 9593.0, 76003],\n",
       " [datetime.datetime(2022, 3, 8, 19, 54, 35), 9587.0, 76007],\n",
       " [datetime.datetime(2022, 3, 8, 19, 54, 39), 9588.0, 76008],\n",
       " [datetime.datetime(2022, 3, 8, 19, 54, 44), 9593.0, 76009],\n",
       " [datetime.datetime(2022, 3, 8, 19, 54, 47), 9593.0, 76010],\n",
       " [datetime.datetime(2022, 3, 8, 19, 54, 50), 9590.0, 76013],\n",
       " [datetime.datetime(2022, 3, 8, 19, 54, 51), 9588.0, 76015],\n",
       " [datetime.datetime(2022, 3, 8, 19, 54, 51), 9587.0, 76017],\n",
       " [datetime.datetime(2022, 3, 8, 19, 54, 54), 9584.0, 76018],\n",
       " [datetime.datetime(2022, 3, 8, 19, 54, 55), 9583.0, 76029],\n",
       " [datetime.datetime(2022, 3, 8, 19, 54, 56), 9585.0, 76030],\n",
       " [datetime.datetime(2022, 3, 8, 19, 54, 58), 9584.0, 76046],\n",
       " [datetime.datetime(2022, 3, 8, 19, 54, 58), 9584.0, 76048],\n",
       " [datetime.datetime(2022, 3, 8, 19, 54, 59), 9583.0, 76051],\n",
       " [datetime.datetime(2022, 3, 8, 19, 55), 9591.0, 76058],\n",
       " [datetime.datetime(2022, 3, 8, 19, 55, 3), 9592.0, 76059],\n",
       " [datetime.datetime(2022, 3, 8, 19, 55, 4), 9586.0, 76067],\n",
       " [datetime.datetime(2022, 3, 8, 19, 55, 6), 9586.0, 76068],\n",
       " [datetime.datetime(2022, 3, 8, 19, 55, 8), 9586.0, 76069],\n",
       " [datetime.datetime(2022, 3, 8, 19, 55, 9), 9582.0, 76073],\n",
       " [datetime.datetime(2022, 3, 8, 19, 55, 10), 9581.0, 76074],\n",
       " [datetime.datetime(2022, 3, 8, 19, 55, 10), 9582.0, 76075],\n",
       " [datetime.datetime(2022, 3, 8, 19, 55, 14), 9583.0, 76080],\n",
       " [datetime.datetime(2022, 3, 8, 19, 55, 15), 9582.0, 76081],\n",
       " [datetime.datetime(2022, 3, 8, 19, 55, 17), 9586.0, 76086],\n",
       " [datetime.datetime(2022, 3, 8, 19, 55, 17), 9587.0, 76087],\n",
       " [datetime.datetime(2022, 3, 8, 19, 55, 20), 9588.0, 76089],\n",
       " [datetime.datetime(2022, 3, 8, 19, 55, 20), 9589.0, 76090],\n",
       " [datetime.datetime(2022, 3, 8, 19, 55, 23), 9584.0, 76094],\n",
       " [datetime.datetime(2022, 3, 8, 19, 55, 24), 9580.0, 76108],\n",
       " [datetime.datetime(2022, 3, 8, 19, 55, 25), 9575.0, 76123],\n",
       " [datetime.datetime(2022, 3, 8, 19, 55, 26), 9580.0, 76133],\n",
       " [datetime.datetime(2022, 3, 8, 19, 55, 26), 9580.0, 76134],\n",
       " [datetime.datetime(2022, 3, 8, 19, 55, 26), 9578.0, 76135],\n",
       " [datetime.datetime(2022, 3, 8, 19, 55, 27), 9578.0, 76136],\n",
       " [datetime.datetime(2022, 3, 8, 19, 55, 28), 9573.0, 76158],\n",
       " [datetime.datetime(2022, 3, 8, 19, 55, 28), 9574.0, 76159],\n",
       " [datetime.datetime(2022, 3, 8, 19, 55, 30), 9570.0, 76162],\n",
       " [datetime.datetime(2022, 3, 8, 19, 55, 30), 9575.0, 76163],\n",
       " [datetime.datetime(2022, 3, 8, 19, 55, 32), 9575.0, 76164],\n",
       " [datetime.datetime(2022, 3, 8, 19, 55, 32), 9575.0, 76165],\n",
       " [datetime.datetime(2022, 3, 8, 19, 55, 34), 9573.0, 76170],\n",
       " [datetime.datetime(2022, 3, 8, 19, 55, 38), 9574.0, 76172],\n",
       " [datetime.datetime(2022, 3, 8, 19, 55, 38), 9576.0, 76173],\n",
       " [datetime.datetime(2022, 3, 8, 19, 55, 40), 9568.0, 76187],\n",
       " [datetime.datetime(2022, 3, 8, 19, 55, 40), 9568.0, 76188],\n",
       " [datetime.datetime(2022, 3, 8, 19, 55, 42), 9568.0, 76190],\n",
       " [datetime.datetime(2022, 3, 8, 19, 55, 43), 9571.0, 76192],\n",
       " [datetime.datetime(2022, 3, 8, 19, 55, 50), 9571.0, 76193],\n",
       " [datetime.datetime(2022, 3, 8, 19, 55, 51), 9568.0, 76194],\n",
       " [datetime.datetime(2022, 3, 8, 19, 55, 51), 9565.0, 76198],\n",
       " [datetime.datetime(2022, 3, 8, 19, 55, 51), 9564.0, 76199],\n",
       " [datetime.datetime(2022, 3, 8, 19, 55, 52), 9565.0, 76202],\n",
       " [datetime.datetime(2022, 3, 8, 19, 55, 56), 9568.0, 76204],\n",
       " [datetime.datetime(2022, 3, 8, 19, 55, 57), 9570.0, 76208],\n",
       " [datetime.datetime(2022, 3, 8, 19, 55, 58), 9569.0, 76209],\n",
       " [datetime.datetime(2022, 3, 8, 19, 56, 3), 9574.0, 76210],\n",
       " [datetime.datetime(2022, 3, 8, 19, 56, 3), 9571.0, 76212],\n",
       " [datetime.datetime(2022, 3, 8, 19, 56, 4), 9574.0, 76213],\n",
       " [datetime.datetime(2022, 3, 8, 19, 56, 4), 9575.0, 76214],\n",
       " [datetime.datetime(2022, 3, 8, 19, 56, 12), 9578.0, 76241],\n",
       " [datetime.datetime(2022, 3, 8, 19, 56, 13), 9581.0, 76253],\n",
       " [datetime.datetime(2022, 3, 8, 19, 56, 13), 9580.0, 76259],\n",
       " [datetime.datetime(2022, 3, 8, 19, 56, 15), 9586.0, 76265],\n",
       " [datetime.datetime(2022, 3, 8, 19, 56, 16), 9584.0, 76268],\n",
       " [datetime.datetime(2022, 3, 8, 19, 56, 18), 9585.0, 76269],\n",
       " [datetime.datetime(2022, 3, 8, 19, 56, 18), 9586.0, 76294],\n",
       " [datetime.datetime(2022, 3, 8, 19, 56, 19), 9586.0, 76295],\n",
       " [datetime.datetime(2022, 3, 8, 19, 56, 25), 9592.0, 76297],\n",
       " [datetime.datetime(2022, 3, 8, 19, 56, 29), 9586.0, 76302],\n",
       " [datetime.datetime(2022, 3, 8, 19, 56, 30), 9586.0, 76303],\n",
       " [datetime.datetime(2022, 3, 8, 19, 56, 34), 9583.0, 76313],\n",
       " [datetime.datetime(2022, 3, 8, 19, 56, 38), 9582.0, 76315],\n",
       " [datetime.datetime(2022, 3, 8, 19, 56, 39), 9585.0, 76316],\n",
       " [datetime.datetime(2022, 3, 8, 19, 56, 40), 9580.0, 76317],\n",
       " [datetime.datetime(2022, 3, 8, 19, 56, 42), 9588.0, 76318],\n",
       " [datetime.datetime(2022, 3, 8, 19, 56, 43), 9596.0, 76322],\n",
       " [datetime.datetime(2022, 3, 8, 19, 56, 46), 9592.0, 76323],\n",
       " [datetime.datetime(2022, 3, 8, 19, 56, 47), 9598.0, 76330],\n",
       " [datetime.datetime(2022, 3, 8, 19, 56, 50), 9594.0, 76352],\n",
       " [datetime.datetime(2022, 3, 8, 19, 56, 51), 9591.0, 76353],\n",
       " [datetime.datetime(2022, 3, 8, 19, 56, 52), 9592.0, 76357],\n",
       " [datetime.datetime(2022, 3, 8, 19, 56, 52), 9593.0, 76358],\n",
       " [datetime.datetime(2022, 3, 8, 19, 56, 53), 9597.0, 76359],\n",
       " [datetime.datetime(2022, 3, 8, 19, 57, 1), 9594.0, 76360],\n",
       " [datetime.datetime(2022, 3, 8, 19, 57, 4), 9600.0, 76370],\n",
       " [datetime.datetime(2022, 3, 8, 19, 57, 6), 9610.0, 76401],\n",
       " [datetime.datetime(2022, 3, 8, 19, 57, 6), 9613.0, 76425],\n",
       " [datetime.datetime(2022, 3, 8, 19, 57, 7), 9620.0, 76454],\n",
       " [datetime.datetime(2022, 3, 8, 19, 57, 8), 9616.0, 76455],\n",
       " [datetime.datetime(2022, 3, 8, 19, 57, 9), 9619.0, 76459],\n",
       " [datetime.datetime(2022, 3, 8, 19, 57, 10), 9620.0, 76463],\n",
       " [datetime.datetime(2022, 3, 8, 19, 57, 11), 9619.0, 76466],\n",
       " [datetime.datetime(2022, 3, 8, 19, 57, 11), 9619.0, 76467],\n",
       " [datetime.datetime(2022, 3, 8, 19, 57, 12), 9619.0, 76468],\n",
       " [datetime.datetime(2022, 3, 8, 19, 57, 12), 9616.0, 76469],\n",
       " [datetime.datetime(2022, 3, 8, 19, 57, 13), 9619.0, 76470],\n",
       " [datetime.datetime(2022, 3, 8, 19, 57, 14), 9621.0, 76475],\n",
       " [datetime.datetime(2022, 3, 8, 19, 57, 15), 9624.0, 76476],\n",
       " [datetime.datetime(2022, 3, 8, 19, 57, 16), 9622.0, 76477],\n",
       " [datetime.datetime(2022, 3, 8, 19, 57, 16), 9624.0, 76480],\n",
       " [datetime.datetime(2022, 3, 8, 19, 57, 17), 9625.0, 76484],\n",
       " [datetime.datetime(2022, 3, 8, 19, 57, 18), 9628.0, 76486],\n",
       " [datetime.datetime(2022, 3, 8, 19, 57, 19), 9623.0, 76487],\n",
       " [datetime.datetime(2022, 3, 8, 19, 57, 19), 9627.0, 76488],\n",
       " [datetime.datetime(2022, 3, 8, 19, 57, 20), 9630.0, 76490],\n",
       " [datetime.datetime(2022, 3, 8, 19, 57, 21), 9628.0, 76492],\n",
       " [datetime.datetime(2022, 3, 8, 19, 57, 22), 9630.0, 76495],\n",
       " [datetime.datetime(2022, 3, 8, 19, 57, 22), 9630.0, 76501],\n",
       " [datetime.datetime(2022, 3, 8, 19, 57, 24), 9630.0, 76504],\n",
       " [datetime.datetime(2022, 3, 8, 19, 57, 24), 9627.0, 76523],\n",
       " [datetime.datetime(2022, 3, 8, 19, 57, 25), 9627.0, 76527],\n",
       " [datetime.datetime(2022, 3, 8, 19, 57, 26), 9629.0, 76529],\n",
       " [datetime.datetime(2022, 3, 8, 19, 57, 28), 9628.0, 76561],\n",
       " [datetime.datetime(2022, 3, 8, 19, 57, 29), 9627.0, 76571],\n",
       " [datetime.datetime(2022, 3, 8, 19, 57, 29), 9626.0, 76572],\n",
       " [datetime.datetime(2022, 3, 8, 19, 57, 32), 9627.0, 76573],\n",
       " [datetime.datetime(2022, 3, 8, 19, 57, 32), 9628.0, 76579],\n",
       " [datetime.datetime(2022, 3, 8, 19, 57, 33), 9630.0, 76585],\n",
       " [datetime.datetime(2022, 3, 8, 19, 57, 36), 9627.0, 76586],\n",
       " [datetime.datetime(2022, 3, 8, 19, 57, 37), 9627.0, 76591],\n",
       " [datetime.datetime(2022, 3, 8, 19, 57, 37), 9626.0, 76592],\n",
       " [datetime.datetime(2022, 3, 8, 19, 57, 38), 9625.0, 76593],\n",
       " [datetime.datetime(2022, 3, 8, 19, 57, 38), 9627.0, 76594],\n",
       " [datetime.datetime(2022, 3, 8, 19, 57, 39), 9625.0, 76605],\n",
       " [datetime.datetime(2022, 3, 8, 19, 57, 40), 9622.0, 76609],\n",
       " [datetime.datetime(2022, 3, 8, 19, 57, 41), 9624.0, 76612],\n",
       " [datetime.datetime(2022, 3, 8, 19, 57, 42), 9630.0, 76614],\n",
       " [datetime.datetime(2022, 3, 8, 19, 57, 43), 9629.0, 76616],\n",
       " [datetime.datetime(2022, 3, 8, 19, 57, 44), 9627.0, 76618],\n",
       " [datetime.datetime(2022, 3, 8, 19, 57, 45), 9626.0, 76619],\n",
       " [datetime.datetime(2022, 3, 8, 19, 57, 46), 9630.0, 76620],\n",
       " [datetime.datetime(2022, 3, 8, 19, 57, 50), 9628.0, 76624],\n",
       " [datetime.datetime(2022, 3, 8, 19, 57, 50), 9629.0, 76625],\n",
       " [datetime.datetime(2022, 3, 8, 19, 57, 51), 9630.0, 76627],\n",
       " [datetime.datetime(2022, 3, 8, 19, 57, 52), 9630.0, 76634],\n",
       " [datetime.datetime(2022, 3, 8, 19, 57, 53), 9628.0, 76635],\n",
       " [datetime.datetime(2022, 3, 8, 19, 57, 54), 9627.0, 76639],\n",
       " [datetime.datetime(2022, 3, 8, 19, 57, 54), 9627.0, 76640],\n",
       " [datetime.datetime(2022, 3, 8, 19, 57, 55), 9628.0, 76644],\n",
       " [datetime.datetime(2022, 3, 8, 19, 57, 58), 9628.0, 76647],\n",
       " [datetime.datetime(2022, 3, 8, 19, 58, 2), 9632.0, 76673],\n",
       " [datetime.datetime(2022, 3, 8, 19, 58, 3), 9636.0, 76684],\n",
       " [datetime.datetime(2022, 3, 8, 19, 58, 4), 9636.0, 76685],\n",
       " [datetime.datetime(2022, 3, 8, 19, 58, 5), 9640.0, 76697],\n",
       " [datetime.datetime(2022, 3, 8, 19, 58, 6), 9644.0, 76733],\n",
       " [datetime.datetime(2022, 3, 8, 19, 58, 7), 9644.0, 76736],\n",
       " [datetime.datetime(2022, 3, 8, 19, 58, 7), 9642.0, 76737],\n",
       " [datetime.datetime(2022, 3, 8, 19, 58, 8), 9638.0, 76740],\n",
       " [datetime.datetime(2022, 3, 8, 19, 58, 9), 9636.0, 76741],\n",
       " [datetime.datetime(2022, 3, 8, 19, 58, 9), 9637.0, 76742],\n",
       " [datetime.datetime(2022, 3, 8, 19, 58, 10), 9638.0, 76744],\n",
       " [datetime.datetime(2022, 3, 8, 19, 58, 11), 9634.0, 76747],\n",
       " [datetime.datetime(2022, 3, 8, 19, 58, 13), 9633.0, 76749],\n",
       " [datetime.datetime(2022, 3, 8, 19, 58, 14), 9635.0, 76755],\n",
       " [datetime.datetime(2022, 3, 8, 19, 58, 15), 9633.0, 76756],\n",
       " [datetime.datetime(2022, 3, 8, 19, 58, 16), 9633.0, 76757],\n",
       " [datetime.datetime(2022, 3, 8, 19, 58, 18), 9630.0, 76760],\n",
       " [datetime.datetime(2022, 3, 8, 19, 58, 18), 9632.0, 76761],\n",
       " [datetime.datetime(2022, 3, 8, 19, 59, 14), 9653.0, 77205],\n",
       " [datetime.datetime(2022, 3, 8, 19, 59, 15), 9654.0, 77213],\n",
       " [datetime.datetime(2022, 3, 8, 19, 59, 16), 9657.0, 77218],\n",
       " [datetime.datetime(2022, 3, 8, 19, 59, 17), 9656.0, 77228],\n",
       " [datetime.datetime(2022, 3, 8, 19, 59, 18), 9654.0, 77231],\n",
       " [datetime.datetime(2022, 3, 8, 19, 59, 19), 9655.0, 77232],\n",
       " [datetime.datetime(2022, 3, 8, 19, 59, 20), 9651.0, 77233],\n",
       " [datetime.datetime(2022, 3, 8, 19, 59, 20), 9650.0, 77235],\n",
       " [datetime.datetime(2022, 3, 8, 19, 59, 21), 9653.0, 77240],\n",
       " [datetime.datetime(2022, 3, 8, 19, 59, 21), 9654.0, 77241],\n",
       " [datetime.datetime(2022, 3, 8, 19, 59, 24), 9653.0, 77246],\n",
       " [datetime.datetime(2022, 3, 8, 19, 59, 24), 9656.0, 77248],\n",
       " [datetime.datetime(2022, 3, 8, 19, 59, 25), 9657.0, 77249],\n",
       " [datetime.datetime(2022, 3, 8, 19, 59, 26), 9653.0, 77252],\n",
       " [datetime.datetime(2022, 3, 8, 19, 59, 28), 9657.0, 77255],\n",
       " [datetime.datetime(2022, 3, 8, 19, 59, 30), 9657.0, 77277],\n",
       " [datetime.datetime(2022, 3, 8, 19, 59, 31), 9656.0, 77278],\n",
       " [datetime.datetime(2022, 3, 8, 19, 59, 33), 9654.0, 77282],\n",
       " [datetime.datetime(2022, 3, 8, 19, 59, 33), 9657.0, 77284],\n",
       " [datetime.datetime(2022, 3, 8, 19, 59, 34), 9656.0, 77286],\n",
       " [datetime.datetime(2022, 3, 8, 19, 59, 35), 9653.0, 77287],\n",
       " [datetime.datetime(2022, 3, 8, 19, 59, 36), 9654.0, 77289],\n",
       " [datetime.datetime(2022, 3, 8, 19, 59, 36), 9658.0, 77290],\n",
       " [datetime.datetime(2022, 3, 8, 19, 59, 37), 9662.0, 77331],\n",
       " [datetime.datetime(2022, 3, 8, 19, 59, 37), 9659.0, 77333],\n",
       " [datetime.datetime(2022, 3, 8, 19, 59, 38), 9665.0, 77339],\n",
       " [datetime.datetime(2022, 3, 8, 19, 59, 39), 9658.0, 77348],\n",
       " [datetime.datetime(2022, 3, 8, 19, 59, 40), 9660.0, 77350],\n",
       " [datetime.datetime(2022, 3, 8, 19, 59, 42), 9660.0, 77351],\n",
       " [datetime.datetime(2022, 3, 8, 19, 59, 42), 9655.0, 77363],\n",
       " [datetime.datetime(2022, 3, 8, 19, 59, 43), 9657.0, 77364],\n",
       " [datetime.datetime(2022, 3, 8, 19, 59, 44), 9654.0, 77371],\n",
       " [datetime.datetime(2022, 3, 8, 19, 59, 44), 9655.0, 77415],\n",
       " [datetime.datetime(2022, 3, 8, 19, 59, 45), 9657.0, 77424],\n",
       " [datetime.datetime(2022, 3, 8, 19, 59, 46), 9656.0, 77428],\n",
       " [datetime.datetime(2022, 3, 8, 19, 59, 48), 9654.0, 77445],\n",
       " [datetime.datetime(2022, 3, 8, 19, 59, 49), 9658.0, 77448],\n",
       " [datetime.datetime(2022, 3, 8, 19, 59, 50), 9657.0, 77461],\n",
       " [datetime.datetime(2022, 3, 8, 19, 59, 51), 9652.0, 77468],\n",
       " [datetime.datetime(2022, 3, 8, 19, 59, 52), 9649.0, 77479],\n",
       " [datetime.datetime(2022, 3, 8, 19, 59, 53), 9649.0, 77480],\n",
       " [datetime.datetime(2022, 3, 8, 19, 59, 54), 9653.0, 77481],\n",
       " [datetime.datetime(2022, 3, 8, 19, 59, 55), 9652.0, 77483],\n",
       " [datetime.datetime(2022, 3, 8, 19, 59, 57), 9653.0, 77486],\n",
       " [datetime.datetime(2022, 3, 8, 19, 59, 58), 9653.0, 77491],\n",
       " [datetime.datetime(2022, 3, 8, 19, 59, 59), 9643.0, 77528],\n",
       " [datetime.datetime(2022, 3, 8, 19, 59, 59), 9649.0, 77534],\n",
       " [datetime.datetime(2022, 3, 8, 20, 0), 9644.0, 77535],\n",
       " [datetime.datetime(2022, 3, 8, 20, 0, 1), 9645.0, 77536],\n",
       " [datetime.datetime(2022, 3, 8, 20, 0, 3), 9652.0, 77569],\n",
       " [datetime.datetime(2022, 3, 8, 20, 0, 3), 9649.0, 77573],\n",
       " [datetime.datetime(2022, 3, 8, 20, 0, 5), 9644.0, 77614],\n",
       " [datetime.datetime(2022, 3, 8, 20, 0, 5), 9646.0, 77637],\n",
       " [datetime.datetime(2022, 3, 8, 20, 0, 7), 9640.0, 77638],\n",
       " [datetime.datetime(2022, 3, 8, 20, 0, 9), 9639.0, 77639],\n",
       " [datetime.datetime(2022, 3, 8, 20, 0, 10), 9644.0, 77673],\n",
       " [datetime.datetime(2022, 3, 8, 20, 0, 13), 9643.0, 77674],\n",
       " [datetime.datetime(2022, 3, 8, 20, 0, 15), 9644.0, 77685],\n",
       " [datetime.datetime(2022, 3, 8, 20, 0, 15), 9640.0, 77686],\n",
       " [datetime.datetime(2022, 3, 8, 20, 0, 17), 9638.0, 77688],\n",
       " [datetime.datetime(2022, 3, 8, 20, 0, 20), 9640.0, 77689],\n",
       " [datetime.datetime(2022, 3, 8, 20, 0, 21), 9626.0, 77738],\n",
       " [datetime.datetime(2022, 3, 8, 20, 0, 22), 9627.0, 77739],\n",
       " [datetime.datetime(2022, 3, 8, 20, 0, 23), 9632.0, 77755],\n",
       " [datetime.datetime(2022, 3, 8, 20, 0, 23), 9626.0, 77761],\n",
       " [datetime.datetime(2022, 3, 8, 20, 0, 24), 9623.0, 77766],\n",
       " [datetime.datetime(2022, 3, 8, 20, 0, 25), 9626.0, 77768],\n",
       " [datetime.datetime(2022, 3, 8, 20, 0, 26), 9624.0, 77791],\n",
       " [datetime.datetime(2022, 3, 8, 20, 0, 27), 9620.0, 77802],\n",
       " [datetime.datetime(2022, 3, 8, 20, 0, 28), 9622.0, 77816],\n",
       " [datetime.datetime(2022, 3, 8, 20, 0, 29), 9625.0, 77817],\n",
       " [datetime.datetime(2022, 3, 8, 20, 0, 31), 9626.0, 77818],\n",
       " [datetime.datetime(2022, 3, 8, 20, 0, 33), 9629.0, 77820],\n",
       " [datetime.datetime(2022, 3, 8, 20, 0, 35), 9636.0, 77848],\n",
       " [datetime.datetime(2022, 3, 8, 20, 0, 35), 9636.0, 77849],\n",
       " [datetime.datetime(2022, 3, 8, 20, 0, 36), 9637.0, 77854],\n",
       " [datetime.datetime(2022, 3, 8, 20, 0, 37), 9640.0, 77861],\n",
       " [datetime.datetime(2022, 3, 8, 20, 0, 38), 9641.0, 77865],\n",
       " [datetime.datetime(2022, 3, 8, 20, 0, 41), 9637.0, 77866],\n",
       " [datetime.datetime(2022, 3, 8, 20, 0, 42), 9637.0, 77868],\n",
       " [datetime.datetime(2022, 3, 8, 20, 0, 43), 9634.0, 77869],\n",
       " [datetime.datetime(2022, 3, 8, 20, 0, 44), 9636.0, 77870],\n",
       " [datetime.datetime(2022, 3, 8, 20, 0, 46), 9630.0, 77872],\n",
       " [datetime.datetime(2022, 3, 8, 20, 0, 46), 9628.0, 77873],\n",
       " [datetime.datetime(2022, 3, 8, 20, 0, 47), 9630.0, 77876],\n",
       " [datetime.datetime(2022, 3, 8, 20, 0, 52), 9633.0, 77877],\n",
       " [datetime.datetime(2022, 3, 8, 20, 0, 52), 9633.0, 77883],\n",
       " [datetime.datetime(2022, 3, 8, 20, 0, 54), 9636.0, 77884],\n",
       " [datetime.datetime(2022, 3, 8, 20, 0, 54), 9631.0, 77887],\n",
       " [datetime.datetime(2022, 3, 8, 20, 0, 55), 9630.0, 77935],\n",
       " [datetime.datetime(2022, 3, 8, 20, 0, 57), 9637.0, 77974],\n",
       " [datetime.datetime(2022, 3, 8, 20, 0, 58), 9637.0, 77979],\n",
       " [datetime.datetime(2022, 3, 8, 20, 0, 58), 9636.0, 77986],\n",
       " [datetime.datetime(2022, 3, 8, 20, 0, 59), 9636.0, 78001],\n",
       " [datetime.datetime(2022, 3, 8, 20, 0, 59), 9635.0, 78003],\n",
       " [datetime.datetime(2022, 3, 8, 20, 1), 9640.0, 78023],\n",
       " [datetime.datetime(2022, 3, 8, 20, 1, 1), 9646.0, 78024],\n",
       " [datetime.datetime(2022, 3, 8, 20, 1, 3), 9641.0, 78027],\n",
       " [datetime.datetime(2022, 3, 8, 20, 1, 3), 9641.0, 78032],\n",
       " [datetime.datetime(2022, 3, 8, 20, 1, 5), 9643.0, 78037],\n",
       " [datetime.datetime(2022, 3, 8, 20, 1, 9), 9648.0, 78038],\n",
       " [datetime.datetime(2022, 3, 8, 20, 1, 9), 9645.0, 78039],\n",
       " [datetime.datetime(2022, 3, 8, 20, 1, 10), 9647.0, 78040],\n",
       " [datetime.datetime(2022, 3, 8, 20, 1, 11), 9647.0, 78041],\n",
       " [datetime.datetime(2022, 3, 8, 20, 1, 12), 9650.0, 78067],\n",
       " [datetime.datetime(2022, 3, 8, 20, 1, 14), 9653.0, 78068],\n",
       " [datetime.datetime(2022, 3, 8, 20, 1, 15), 9650.0, 78070],\n",
       " [datetime.datetime(2022, 3, 8, 20, 1, 16), 9648.0, 78071],\n",
       " [datetime.datetime(2022, 3, 8, 20, 1, 17), 9654.0, 78073],\n",
       " [datetime.datetime(2022, 3, 8, 20, 1, 18), 9650.0, 78074],\n",
       " [datetime.datetime(2022, 3, 8, 20, 1, 18), 9649.0, 78075],\n",
       " [datetime.datetime(2022, 3, 8, 20, 1, 19), 9650.0, 78076],\n",
       " [datetime.datetime(2022, 3, 8, 20, 1, 20), 9647.0, 78080],\n",
       " [datetime.datetime(2022, 3, 8, 20, 1, 21), 9646.0, 78082],\n",
       " [datetime.datetime(2022, 3, 8, 20, 1, 21), 9645.0, 78083],\n",
       " [datetime.datetime(2022, 3, 8, 20, 1, 23), 9650.0, 78084],\n",
       " [datetime.datetime(2022, 3, 8, 20, 1, 25), 9650.0, 78085],\n",
       " [datetime.datetime(2022, 3, 8, 20, 1, 26), 9650.0, 78087],\n",
       " [datetime.datetime(2022, 3, 8, 20, 1, 27), 9650.0, 78140],\n",
       " [datetime.datetime(2022, 3, 8, 20, 1, 31), 9647.0, 78159],\n",
       " [datetime.datetime(2022, 3, 8, 20, 1, 32), 9654.0, 78218],\n",
       " [datetime.datetime(2022, 3, 8, 20, 1, 37), 9655.0, 78227],\n",
       " [datetime.datetime(2022, 3, 8, 20, 1, 37), 9653.0, 78229],\n",
       " [datetime.datetime(2022, 3, 8, 20, 1, 39), 9657.0, 78231],\n",
       " [datetime.datetime(2022, 3, 8, 20, 1, 40), 9657.0, 78232],\n",
       " [datetime.datetime(2022, 3, 8, 20, 1, 41), 9660.0, 78233],\n",
       " [datetime.datetime(2022, 3, 8, 20, 1, 41), 9658.0, 78235],\n",
       " [datetime.datetime(2022, 3, 8, 20, 1, 41), 9658.0, 78240],\n",
       " [datetime.datetime(2022, 3, 8, 20, 1, 42), 9659.0, 78242],\n",
       " [datetime.datetime(2022, 3, 8, 20, 1, 43), 9654.0, 78247],\n",
       " [datetime.datetime(2022, 3, 8, 20, 1, 44), 9656.0, 78248],\n",
       " [datetime.datetime(2022, 3, 8, 20, 1, 45), 9651.0, 78249],\n",
       " [datetime.datetime(2022, 3, 8, 20, 1, 46), 9650.0, 78251],\n",
       " [datetime.datetime(2022, 3, 8, 20, 1, 47), 9647.0, 78252],\n",
       " [datetime.datetime(2022, 3, 8, 20, 1, 51), 9643.0, 78269],\n",
       " [datetime.datetime(2022, 3, 8, 20, 1, 51), 9647.0, 78270],\n",
       " [datetime.datetime(2022, 3, 8, 20, 1, 52), 9647.0, 78271],\n",
       " [datetime.datetime(2022, 3, 8, 20, 1, 56), 9646.0, 78272],\n",
       " [datetime.datetime(2022, 3, 8, 20, 1, 57), 9643.0, 78273],\n",
       " [datetime.datetime(2022, 3, 8, 20, 1, 58), 9645.0, 78278],\n",
       " [datetime.datetime(2022, 3, 8, 20, 1, 58), 9645.0, 78279],\n",
       " [datetime.datetime(2022, 3, 8, 20, 1, 59), 9640.0, 78307],\n",
       " [datetime.datetime(2022, 3, 8, 20, 2, 3), 9642.0, 78308],\n",
       " [datetime.datetime(2022, 3, 8, 20, 2, 5), 9645.0, 78309],\n",
       " [datetime.datetime(2022, 3, 8, 20, 2, 7), 9644.0, 78314],\n",
       " [datetime.datetime(2022, 3, 8, 20, 2, 7), 9647.0, 78315],\n",
       " [datetime.datetime(2022, 3, 8, 20, 2, 8), 9647.0, 78331],\n",
       " [datetime.datetime(2022, 3, 8, 20, 2, 8), 9645.0, 78332],\n",
       " [datetime.datetime(2022, 3, 8, 20, 2, 10), 9643.0, 78341],\n",
       " [datetime.datetime(2022, 3, 8, 20, 2, 11), 9637.0, 78348],\n",
       " [datetime.datetime(2022, 3, 8, 20, 2, 12), 9636.0, 78354],\n",
       " [datetime.datetime(2022, 3, 8, 20, 2, 12), 9636.0, 78355],\n",
       " [datetime.datetime(2022, 3, 8, 20, 2, 14), 9636.0, 78356],\n",
       " [datetime.datetime(2022, 3, 8, 20, 2, 17), 9640.0, 78357],\n",
       " [datetime.datetime(2022, 3, 8, 20, 2, 20), 9640.0, 78366],\n",
       " [datetime.datetime(2022, 3, 8, 20, 2, 23), 9636.0, 78368],\n",
       " [datetime.datetime(2022, 3, 8, 20, 2, 23), 9635.0, 78371],\n",
       " [datetime.datetime(2022, 3, 8, 20, 2, 25), 9631.0, 78379],\n",
       " [datetime.datetime(2022, 3, 8, 20, 2, 26), 9632.0, 78381],\n",
       " [datetime.datetime(2022, 3, 8, 20, 2, 27), 9634.0, 78436],\n",
       " [datetime.datetime(2022, 3, 8, 20, 2, 28), 9631.0, 78453],\n",
       " [datetime.datetime(2022, 3, 8, 20, 2, 28), 9629.0, 78459],\n",
       " [datetime.datetime(2022, 3, 8, 20, 2, 30), 9631.0, 78460],\n",
       " [datetime.datetime(2022, 3, 8, 20, 2, 32), 9624.0, 78465],\n",
       " [datetime.datetime(2022, 3, 8, 20, 2, 33), 9626.0, 78472],\n",
       " [datetime.datetime(2022, 3, 8, 20, 2, 34), 9621.0, 78484],\n",
       " [datetime.datetime(2022, 3, 8, 20, 2, 35), 9623.0, 78487],\n",
       " [datetime.datetime(2022, 3, 8, 20, 2, 36), 9620.0, 78494],\n",
       " [datetime.datetime(2022, 3, 8, 20, 2, 36), 9618.0, 78496],\n",
       " [datetime.datetime(2022, 3, 8, 20, 2, 38), 9625.0, 78513],\n",
       " [datetime.datetime(2022, 3, 8, 20, 2, 39), 9623.0, 78514],\n",
       " [datetime.datetime(2022, 3, 8, 20, 2, 39), 9625.0, 78515],\n",
       " [datetime.datetime(2022, 3, 8, 20, 2, 40), 9623.0, 78516],\n",
       " [datetime.datetime(2022, 3, 8, 20, 2, 41), 9623.0, 78518],\n",
       " [datetime.datetime(2022, 3, 8, 20, 2, 41), 9621.0, 78523],\n",
       " [datetime.datetime(2022, 3, 8, 20, 2, 42), 9620.0, 78538],\n",
       " [datetime.datetime(2022, 3, 8, 20, 2, 43), 9625.0, 78548],\n",
       " [datetime.datetime(2022, 3, 8, 20, 2, 44), 9618.0, 78550],\n",
       " [datetime.datetime(2022, 3, 8, 20, 2, 44), 9625.0, 78564],\n",
       " [datetime.datetime(2022, 3, 8, 20, 2, 45), 9623.0, 78565],\n",
       " [datetime.datetime(2022, 3, 8, 20, 2, 47), 9624.0, 78572],\n",
       " [datetime.datetime(2022, 3, 8, 20, 2, 49), 9622.0, 78573],\n",
       " [datetime.datetime(2022, 3, 8, 20, 2, 50), 9618.0, 78574],\n",
       " [datetime.datetime(2022, 3, 8, 20, 2, 51), 9618.0, 78576],\n",
       " [datetime.datetime(2022, 3, 8, 20, 2, 51), 9618.0, 78577],\n",
       " [datetime.datetime(2022, 3, 8, 20, 2, 52), 9614.0, 78582],\n",
       " [datetime.datetime(2022, 3, 8, 20, 2, 53), 9615.0, 78584],\n",
       " [datetime.datetime(2022, 3, 8, 20, 2, 54), 9612.0, 78595],\n",
       " [datetime.datetime(2022, 3, 8, 20, 2, 55), 9613.0, 78597],\n",
       " [datetime.datetime(2022, 3, 8, 20, 2, 55), 9616.0, 78598],\n",
       " [datetime.datetime(2022, 3, 8, 20, 2, 56), 9614.0, 78599],\n",
       " [datetime.datetime(2022, 3, 8, 20, 2, 57), 9619.0, 78609],\n",
       " [datetime.datetime(2022, 3, 8, 20, 3, 4), 9621.0, 78612],\n",
       " [datetime.datetime(2022, 3, 8, 20, 3, 6), 9615.0, 78614],\n",
       " [datetime.datetime(2022, 3, 8, 20, 3, 6), 9617.0, 78626],\n",
       " [datetime.datetime(2022, 3, 8, 20, 3, 12), 9613.0, 78629],\n",
       " [datetime.datetime(2022, 3, 8, 20, 3, 14), 9611.0, 78630],\n",
       " [datetime.datetime(2022, 3, 8, 20, 3, 16), 9618.0, 78631],\n",
       " [datetime.datetime(2022, 3, 8, 20, 3, 16), 9615.0, 78632],\n",
       " [datetime.datetime(2022, 3, 8, 20, 3, 17), 9621.0, 78635],\n",
       " [datetime.datetime(2022, 3, 8, 20, 3, 20), 9620.0, 78636],\n",
       " [datetime.datetime(2022, 3, 8, 20, 3, 24), 9619.0, 78646],\n",
       " [datetime.datetime(2022, 3, 8, 20, 3, 27), 9612.0, 78649],\n",
       " [datetime.datetime(2022, 3, 8, 20, 3, 28), 9615.0, 78662],\n",
       " [datetime.datetime(2022, 3, 8, 20, 3, 29), 9615.0, 78663],\n",
       " [datetime.datetime(2022, 3, 8, 20, 3, 31), 9611.0, 78694],\n",
       " [datetime.datetime(2022, 3, 8, 20, 3, 33), 9609.0, 78695],\n",
       " [datetime.datetime(2022, 3, 8, 20, 3, 34), 9607.0, 78697],\n",
       " [datetime.datetime(2022, 3, 8, 20, 3, 35), 9613.0, 78761],\n",
       " [datetime.datetime(2022, 3, 8, 20, 3, 36), 9608.0, 78771],\n",
       " [datetime.datetime(2022, 3, 8, 20, 3, 37), 9609.0, 78772],\n",
       " [datetime.datetime(2022, 3, 8, 20, 3, 38), 9612.0, 78793],\n",
       " [datetime.datetime(2022, 3, 8, 20, 3, 40), 9613.0, 78798],\n",
       " [datetime.datetime(2022, 3, 8, 20, 3, 42), 9619.0, 78800],\n",
       " [datetime.datetime(2022, 3, 8, 20, 3, 43), 9620.0, 78815],\n",
       " [datetime.datetime(2022, 3, 8, 20, 3, 46), 9622.0, 78837],\n",
       " [datetime.datetime(2022, 3, 8, 20, 3, 46), 9625.0, 78838],\n",
       " [datetime.datetime(2022, 3, 8, 20, 3, 49), 9627.0, 78849],\n",
       " [datetime.datetime(2022, 3, 8, 20, 3, 49), 9627.0, 78851],\n",
       " [datetime.datetime(2022, 3, 8, 20, 3, 51), 9630.0, 78856],\n",
       " [datetime.datetime(2022, 3, 8, 20, 3, 52), 9636.0, 78865],\n",
       " [datetime.datetime(2022, 3, 8, 20, 3, 54), 9638.0, 78871],\n",
       " [datetime.datetime(2022, 3, 8, 20, 3, 55), 9635.0, 78874],\n",
       " [datetime.datetime(2022, 3, 8, 20, 3, 56), 9635.0, 78881],\n",
       " [datetime.datetime(2022, 3, 8, 20, 3, 56), 9639.0, 78882],\n",
       " [datetime.datetime(2022, 3, 8, 20, 3, 58), 9641.0, 78883],\n",
       " [datetime.datetime(2022, 3, 8, 20, 4, 1), 9645.0, 78885],\n",
       " [datetime.datetime(2022, 3, 8, 20, 4, 2), 9644.0, 78887],\n",
       " [datetime.datetime(2022, 3, 8, 20, 4, 3), 9644.0, 78890],\n",
       " [datetime.datetime(2022, 3, 8, 20, 4, 3), 9641.0, 78891],\n",
       " [datetime.datetime(2022, 3, 8, 20, 4, 4), 9647.0, 78894],\n",
       " [datetime.datetime(2022, 3, 8, 20, 4, 5), 9642.0, 78895],\n",
       " [datetime.datetime(2022, 3, 8, 20, 4, 7), 9645.0, 78896],\n",
       " [datetime.datetime(2022, 3, 8, 20, 4, 9), 9644.0, 78898],\n",
       " [datetime.datetime(2022, 3, 8, 20, 4, 13), 9645.0, 78899],\n",
       " [datetime.datetime(2022, 3, 8, 20, 4, 14), 9647.0, 78900],\n",
       " [datetime.datetime(2022, 3, 8, 20, 4, 16), 9646.0, 78901],\n",
       " [datetime.datetime(2022, 3, 8, 20, 4, 23), 9647.0, 78912],\n",
       " [datetime.datetime(2022, 3, 8, 20, 4, 25), 9650.0, 78949],\n",
       " [datetime.datetime(2022, 3, 8, 20, 4, 26), 9657.0, 78951],\n",
       " [datetime.datetime(2022, 3, 8, 20, 4, 27), 9655.0, 78953],\n",
       " [datetime.datetime(2022, 3, 8, 20, 4, 28), 9655.0, 78955],\n",
       " [datetime.datetime(2022, 3, 8, 20, 4, 29), 9658.0, 78956],\n",
       " [datetime.datetime(2022, 3, 8, 20, 4, 30), 9650.0, 78958],\n",
       " [datetime.datetime(2022, 3, 8, 20, 4, 30), 9650.0, 78959],\n",
       " [datetime.datetime(2022, 3, 8, 20, 4, 31), 9654.0, 78960],\n",
       " [datetime.datetime(2022, 3, 8, 20, 4, 32), 9659.0, 78968],\n",
       " [datetime.datetime(2022, 3, 8, 20, 4, 32), 9656.0, 78970],\n",
       " [datetime.datetime(2022, 3, 8, 20, 4, 34), 9658.0, 78972],\n",
       " [datetime.datetime(2022, 3, 8, 20, 4, 35), 9659.0, 79007],\n",
       " [datetime.datetime(2022, 3, 8, 20, 4, 35), 9661.0, 79012],\n",
       " [datetime.datetime(2022, 3, 8, 20, 4, 36), 9667.0, 79026],\n",
       " [datetime.datetime(2022, 3, 8, 20, 4, 37), 9657.0, 79027],\n",
       " [datetime.datetime(2022, 3, 8, 20, 4, 38), 9659.0, 79029],\n",
       " [datetime.datetime(2022, 3, 8, 20, 4, 39), 9662.0, 79030],\n",
       " [datetime.datetime(2022, 3, 8, 20, 4, 39), 9660.0, 79031],\n",
       " [datetime.datetime(2022, 3, 8, 20, 4, 40), 9666.0, 79045],\n",
       " [datetime.datetime(2022, 3, 8, 20, 4, 40), 9659.0, 79046],\n",
       " [datetime.datetime(2022, 3, 8, 20, 4, 41), 9662.0, 79048],\n",
       " [datetime.datetime(2022, 3, 8, 20, 4, 43), 9654.0, 79055],\n",
       " [datetime.datetime(2022, 3, 8, 20, 4, 44), 9657.0, 79056],\n",
       " [datetime.datetime(2022, 3, 8, 20, 4, 45), 9658.0, 79057],\n",
       " [datetime.datetime(2022, 3, 8, 20, 4, 49), 9658.0, 79060],\n",
       " [datetime.datetime(2022, 3, 8, 20, 4, 49), 9660.0, 79061],\n",
       " [datetime.datetime(2022, 3, 8, 20, 4, 55), 9665.0, 79066],\n",
       " [datetime.datetime(2022, 3, 8, 20, 4, 56), 9659.0, 79067],\n",
       " [datetime.datetime(2022, 3, 8, 20, 4, 56), 9659.0, 79072],\n",
       " [datetime.datetime(2022, 3, 8, 20, 4, 56), 9655.0, 79077],\n",
       " [datetime.datetime(2022, 3, 8, 20, 4, 58), 9654.0, 79078],\n",
       " [datetime.datetime(2022, 3, 8, 20, 4, 58), 9654.0, 79079],\n",
       " [datetime.datetime(2022, 3, 8, 20, 4, 59), 9658.0, 79080],\n",
       " [datetime.datetime(2022, 3, 8, 20, 5), 9657.0, 79091],\n",
       " [datetime.datetime(2022, 3, 8, 20, 5, 1), 9657.0, 79092],\n",
       " [datetime.datetime(2022, 3, 8, 20, 5, 5), 9659.0, 79093],\n",
       " [datetime.datetime(2022, 3, 8, 20, 5, 5), 9660.0, 79094],\n",
       " [datetime.datetime(2022, 3, 8, 20, 5, 6), 9660.0, 79096],\n",
       " [datetime.datetime(2022, 3, 8, 20, 5, 8), 9662.0, 79097],\n",
       " [datetime.datetime(2022, 3, 8, 20, 5, 9), 9660.0, 79098],\n",
       " [datetime.datetime(2022, 3, 8, 20, 5, 10), 9662.0, 79108],\n",
       " [datetime.datetime(2022, 3, 8, 20, 5, 10), 9660.0, 79109],\n",
       " [datetime.datetime(2022, 3, 8, 20, 5, 13), 9660.0, 79113],\n",
       " [datetime.datetime(2022, 3, 8, 20, 5, 14), 9659.0, 79117],\n",
       " [datetime.datetime(2022, 3, 8, 20, 5, 16), 9662.0, 79118],\n",
       " [datetime.datetime(2022, 3, 8, 20, 5, 17), 9659.0, 79129],\n",
       " [datetime.datetime(2022, 3, 8, 20, 5, 20), 9662.0, 79130],\n",
       " [datetime.datetime(2022, 3, 8, 20, 5, 20), 9662.0, 79131],\n",
       " [datetime.datetime(2022, 3, 8, 20, 5, 21), 9658.0, 79137],\n",
       " [datetime.datetime(2022, 3, 8, 20, 5, 22), 9659.0, 79138],\n",
       " [datetime.datetime(2022, 3, 8, 20, 5, 23), 9658.0, 79140],\n",
       " [datetime.datetime(2022, 3, 8, 20, 5, 24), 9658.0, 79141],\n",
       " [datetime.datetime(2022, 3, 8, 20, 5, 25), 9660.0, 79142],\n",
       " [datetime.datetime(2022, 3, 8, 20, 5, 26), 9661.0, 79145],\n",
       " [datetime.datetime(2022, 3, 8, 20, 5, 27), 9662.0, 79146],\n",
       " [datetime.datetime(2022, 3, 8, 20, 5, 27), 9661.0, 79147],\n",
       " [datetime.datetime(2022, 3, 8, 20, 5, 29), 9661.0, 79150],\n",
       " [datetime.datetime(2022, 3, 8, 20, 5, 31), 9663.0, 79151],\n",
       " [datetime.datetime(2022, 3, 8, 20, 5, 36), 9663.0, 79152],\n",
       " [datetime.datetime(2022, 3, 8, 20, 5, 37), 9670.0, 79175],\n",
       " [datetime.datetime(2022, 3, 8, 20, 5, 38), 9669.0, 79177],\n",
       " [datetime.datetime(2022, 3, 8, 20, 5, 39), 9673.0, 79187],\n",
       " [datetime.datetime(2022, 3, 8, 20, 5, 39), 9670.0, 79193],\n",
       " [datetime.datetime(2022, 3, 8, 20, 5, 40), 9670.0, 79194],\n",
       " [datetime.datetime(2022, 3, 8, 20, 5, 43), 9667.0, 79205],\n",
       " [datetime.datetime(2022, 3, 8, 20, 5, 44), 9668.0, 79208],\n",
       " [datetime.datetime(2022, 3, 8, 20, 5, 46), 9664.0, 79210],\n",
       " [datetime.datetime(2022, 3, 8, 20, 5, 50), 9662.0, 79213],\n",
       " [datetime.datetime(2022, 3, 8, 20, 5, 50), 9664.0, 79216]]"
      ]
     },
     "execution_count": 28,
     "metadata": {},
     "output_type": "execute_result"
    }
   ],
   "source": [
    "#r.lrange('59736071'+'_data', 0, -1)\n",
    "ltp_data = list(map(eval, r.lrange('59736071'+'_data', 0, -1)))\n",
    "ltp_data[:-5]"
   ]
  },
  {
   "cell_type": "code",
   "execution_count": 26,
   "metadata": {},
   "outputs": [],
   "source": [
    "import pandas as pd\n",
    "kite_func = Kite_functions(kite)"
   ]
  },
  {
   "cell_type": "code",
   "execution_count": 29,
   "metadata": {},
   "outputs": [
    {
     "data": {
      "text/html": [
       "<div>\n",
       "<style scoped>\n",
       "    .dataframe tbody tr th:only-of-type {\n",
       "        vertical-align: middle;\n",
       "    }\n",
       "\n",
       "    .dataframe tbody tr th {\n",
       "        vertical-align: top;\n",
       "    }\n",
       "\n",
       "    .dataframe thead th {\n",
       "        text-align: right;\n",
       "    }\n",
       "</style>\n",
       "<table border=\"1\" class=\"dataframe\">\n",
       "  <thead>\n",
       "    <tr style=\"text-align: right;\">\n",
       "      <th></th>\n",
       "      <th>open</th>\n",
       "      <th>high</th>\n",
       "      <th>low</th>\n",
       "      <th>close</th>\n",
       "      <th>volume</th>\n",
       "    </tr>\n",
       "    <tr>\n",
       "      <th>date</th>\n",
       "      <th></th>\n",
       "      <th></th>\n",
       "      <th></th>\n",
       "      <th></th>\n",
       "      <th></th>\n",
       "    </tr>\n",
       "  </thead>\n",
       "  <tbody>\n",
       "    <tr>\n",
       "      <th>2022-03-08 19:54:00+05:30</th>\n",
       "      <td>9602.0</td>\n",
       "      <td>9604.0</td>\n",
       "      <td>9577.0</td>\n",
       "      <td>9583.0</td>\n",
       "      <td>160.0</td>\n",
       "    </tr>\n",
       "    <tr>\n",
       "      <th>2022-03-08 19:55:00+05:30</th>\n",
       "      <td>9591.0</td>\n",
       "      <td>9592.0</td>\n",
       "      <td>9564.0</td>\n",
       "      <td>9569.0</td>\n",
       "      <td>158.0</td>\n",
       "    </tr>\n",
       "    <tr>\n",
       "      <th>2022-03-08 19:56:00+05:30</th>\n",
       "      <td>9574.0</td>\n",
       "      <td>9598.0</td>\n",
       "      <td>9571.0</td>\n",
       "      <td>9597.0</td>\n",
       "      <td>150.0</td>\n",
       "    </tr>\n",
       "    <tr>\n",
       "      <th>2022-03-08 19:57:00+05:30</th>\n",
       "      <td>9594.0</td>\n",
       "      <td>9630.0</td>\n",
       "      <td>9594.0</td>\n",
       "      <td>9628.0</td>\n",
       "      <td>288.0</td>\n",
       "    </tr>\n",
       "    <tr>\n",
       "      <th>2022-03-08 19:58:00+05:30</th>\n",
       "      <td>9632.0</td>\n",
       "      <td>9644.0</td>\n",
       "      <td>9630.0</td>\n",
       "      <td>9632.0</td>\n",
       "      <td>114.0</td>\n",
       "    </tr>\n",
       "    <tr>\n",
       "      <th>2022-03-08 19:59:00+05:30</th>\n",
       "      <td>9653.0</td>\n",
       "      <td>9665.0</td>\n",
       "      <td>9643.0</td>\n",
       "      <td>9649.0</td>\n",
       "      <td>773.0</td>\n",
       "    </tr>\n",
       "    <tr>\n",
       "      <th>2022-03-08 20:00:00+05:30</th>\n",
       "      <td>9644.0</td>\n",
       "      <td>9652.0</td>\n",
       "      <td>9620.0</td>\n",
       "      <td>9635.0</td>\n",
       "      <td>469.0</td>\n",
       "    </tr>\n",
       "    <tr>\n",
       "      <th>2022-03-08 20:01:00+05:30</th>\n",
       "      <td>9640.0</td>\n",
       "      <td>9660.0</td>\n",
       "      <td>9640.0</td>\n",
       "      <td>9640.0</td>\n",
       "      <td>304.0</td>\n",
       "    </tr>\n",
       "    <tr>\n",
       "      <th>2022-03-08 20:02:00+05:30</th>\n",
       "      <td>9642.0</td>\n",
       "      <td>9647.0</td>\n",
       "      <td>9612.0</td>\n",
       "      <td>9619.0</td>\n",
       "      <td>302.0</td>\n",
       "    </tr>\n",
       "    <tr>\n",
       "      <th>2022-03-08 20:03:00+05:30</th>\n",
       "      <td>9621.0</td>\n",
       "      <td>9641.0</td>\n",
       "      <td>9607.0</td>\n",
       "      <td>9641.0</td>\n",
       "      <td>274.0</td>\n",
       "    </tr>\n",
       "    <tr>\n",
       "      <th>2022-03-08 20:04:00+05:30</th>\n",
       "      <td>9645.0</td>\n",
       "      <td>9667.0</td>\n",
       "      <td>9641.0</td>\n",
       "      <td>9658.0</td>\n",
       "      <td>197.0</td>\n",
       "    </tr>\n",
       "    <tr>\n",
       "      <th>2022-03-08 20:05:00+05:30</th>\n",
       "      <td>9657.0</td>\n",
       "      <td>9673.0</td>\n",
       "      <td>9657.0</td>\n",
       "      <td>9660.0</td>\n",
       "      <td>146.0</td>\n",
       "    </tr>\n",
       "  </tbody>\n",
       "</table>\n",
       "</div>"
      ],
      "text/plain": [
       "                             open    high     low   close  volume\n",
       "date                                                             \n",
       "2022-03-08 19:54:00+05:30  9602.0  9604.0  9577.0  9583.0   160.0\n",
       "2022-03-08 19:55:00+05:30  9591.0  9592.0  9564.0  9569.0   158.0\n",
       "2022-03-08 19:56:00+05:30  9574.0  9598.0  9571.0  9597.0   150.0\n",
       "2022-03-08 19:57:00+05:30  9594.0  9630.0  9594.0  9628.0   288.0\n",
       "2022-03-08 19:58:00+05:30  9632.0  9644.0  9630.0  9632.0   114.0\n",
       "2022-03-08 19:59:00+05:30  9653.0  9665.0  9643.0  9649.0   773.0\n",
       "2022-03-08 20:00:00+05:30  9644.0  9652.0  9620.0  9635.0   469.0\n",
       "2022-03-08 20:01:00+05:30  9640.0  9660.0  9640.0  9640.0   304.0\n",
       "2022-03-08 20:02:00+05:30  9642.0  9647.0  9612.0  9619.0   302.0\n",
       "2022-03-08 20:03:00+05:30  9621.0  9641.0  9607.0  9641.0   274.0\n",
       "2022-03-08 20:04:00+05:30  9645.0  9667.0  9641.0  9658.0   197.0\n",
       "2022-03-08 20:05:00+05:30  9657.0  9673.0  9657.0  9660.0   146.0"
      ]
     },
     "execution_count": 29,
     "metadata": {},
     "output_type": "execute_result"
    }
   ],
   "source": [
    "kite_func.convert_tick_data_to_candles(ltp_data, '1min')"
   ]
  },
  {
   "cell_type": "code",
   "execution_count": 10,
   "metadata": {},
   "outputs": [],
   "source": [
    "#60751623\n",
    "ticker.subscribe_list = [60751623]\n",
    "ticker.subscribe_new_tokens = True"
   ]
  },
  {
   "cell_type": "code",
   "execution_count": 13,
   "metadata": {},
   "outputs": [
    {
     "data": {
      "text/plain": [
       "{'buy': [{'quantity': 1, 'price': 545.1, 'orders': 1},\n",
       "  {'quantity': 1, 'price': 545.0, 'orders': 1},\n",
       "  {'quantity': 1, 'price': 542.0, 'orders': 1},\n",
       "  {'quantity': 6, 'price': 540.0, 'orders': 3},\n",
       "  {'quantity': 2, 'price': 538.5, 'orders': 1}],\n",
       " 'sell': [{'quantity': 1, 'price': 549.9, 'orders': 1},\n",
       "  {'quantity': 2, 'price': 551.6, 'orders': 1},\n",
       "  {'quantity': 2, 'price': 551.9, 'orders': 1},\n",
       "  {'quantity': 3, 'price': 552.0, 'orders': 2},\n",
       "  {'quantity': 2, 'price': 552.7, 'orders': 1}]}"
      ]
     },
     "execution_count": 13,
     "metadata": {},
     "output_type": "execute_result"
    }
   ],
   "source": [
    "eval(r.get('60751623'+'_depth'))"
   ]
  },
  {
   "cell_type": "code",
   "execution_count": 16,
   "metadata": {},
   "outputs": [
    {
     "ename": "AttributeError",
     "evalue": "'NoneType' object has no attribute 'sendMessage'",
     "output_type": "error",
     "traceback": [
      "\u001b[0;31m---------------------------------------------------------------------------\u001b[0m",
      "\u001b[0;31mAttributeError\u001b[0m                            Traceback (most recent call last)",
      "\u001b[1;32m/home/prathwish/Desktop/algo_trader/main.ipynb Cell 28'\u001b[0m in \u001b[0;36m<module>\u001b[0;34m\u001b[0m\n\u001b[0;32m----> <a href='vscode-notebook-cell:/home/prathwish/Desktop/algo_trader/main.ipynb#ch0000075?line=0'>1</a>\u001b[0m ticker\u001b[39m.\u001b[39;49msubscribe_tokens([\u001b[39m58843655\u001b[39;49m, \u001b[39m59736071\u001b[39;49m])\n",
      "File \u001b[0;32m~/Desktop/algo_trader/ticker_service.py:74\u001b[0m, in \u001b[0;36mTicker_class.subscribe_tokens\u001b[0;34m(self, tokens_list)\u001b[0m\n\u001b[1;32m     <a href='file:///~/Desktop/algo_trader/ticker_service.py?line=70'>71</a>\u001b[0m     \u001b[39mif\u001b[39;00m each_token \u001b[39mnot\u001b[39;00m \u001b[39min\u001b[39;00m \u001b[39mself\u001b[39m\u001b[39m.\u001b[39mtokens:\n\u001b[1;32m     <a href='file:///~/Desktop/algo_trader/ticker_service.py?line=71'>72</a>\u001b[0m         \u001b[39mself\u001b[39m\u001b[39m.\u001b[39mtokens\u001b[39m.\u001b[39mappend(each_token)\n\u001b[0;32m---> <a href='file:///~/Desktop/algo_trader/ticker_service.py?line=73'>74</a>\u001b[0m \u001b[39mself\u001b[39;49m\u001b[39m.\u001b[39;49mkws\u001b[39m.\u001b[39;49msubscribe(\u001b[39mself\u001b[39;49m\u001b[39m.\u001b[39;49mtokens)\n\u001b[1;32m     <a href='file:///~/Desktop/algo_trader/ticker_service.py?line=74'>75</a>\u001b[0m \u001b[39mself\u001b[39m\u001b[39m.\u001b[39mkws\u001b[39m.\u001b[39mset_mode(\u001b[39mself\u001b[39m\u001b[39m.\u001b[39mkws\u001b[39m.\u001b[39mMODE_FULL,\u001b[39mself\u001b[39m\u001b[39m.\u001b[39mtokens)\n",
      "File \u001b[0;32m~/Desktop/algo_trader/venv/lib/python3.9/site-packages/kiteconnect/ticker.py:569\u001b[0m, in \u001b[0;36mKiteTicker.subscribe\u001b[0;34m(self, instrument_tokens)\u001b[0m\n\u001b[1;32m    <a href='file:///~/Desktop/algo_trader/venv/lib/python3.9/site-packages/kiteconnect/ticker.py?line=562'>563</a>\u001b[0m \u001b[39m\"\"\"\u001b[39;00m\n\u001b[1;32m    <a href='file:///~/Desktop/algo_trader/venv/lib/python3.9/site-packages/kiteconnect/ticker.py?line=563'>564</a>\u001b[0m \u001b[39mSubscribe to a list of instrument_tokens.\u001b[39;00m\n\u001b[1;32m    <a href='file:///~/Desktop/algo_trader/venv/lib/python3.9/site-packages/kiteconnect/ticker.py?line=564'>565</a>\u001b[0m \n\u001b[1;32m    <a href='file:///~/Desktop/algo_trader/venv/lib/python3.9/site-packages/kiteconnect/ticker.py?line=565'>566</a>\u001b[0m \u001b[39m- `instrument_tokens` is list of instrument instrument_tokens to subscribe\u001b[39;00m\n\u001b[1;32m    <a href='file:///~/Desktop/algo_trader/venv/lib/python3.9/site-packages/kiteconnect/ticker.py?line=566'>567</a>\u001b[0m \u001b[39m\"\"\"\u001b[39;00m\n\u001b[1;32m    <a href='file:///~/Desktop/algo_trader/venv/lib/python3.9/site-packages/kiteconnect/ticker.py?line=567'>568</a>\u001b[0m \u001b[39mtry\u001b[39;00m:\n\u001b[0;32m--> <a href='file:///~/Desktop/algo_trader/venv/lib/python3.9/site-packages/kiteconnect/ticker.py?line=568'>569</a>\u001b[0m     \u001b[39mself\u001b[39;49m\u001b[39m.\u001b[39;49mws\u001b[39m.\u001b[39;49msendMessage(\n\u001b[1;32m    <a href='file:///~/Desktop/algo_trader/venv/lib/python3.9/site-packages/kiteconnect/ticker.py?line=569'>570</a>\u001b[0m         six\u001b[39m.\u001b[39mb(json\u001b[39m.\u001b[39mdumps({\u001b[39m\"\u001b[39m\u001b[39ma\u001b[39m\u001b[39m\"\u001b[39m: \u001b[39mself\u001b[39m\u001b[39m.\u001b[39m_message_subscribe, \u001b[39m\"\u001b[39m\u001b[39mv\u001b[39m\u001b[39m\"\u001b[39m: instrument_tokens}))\n\u001b[1;32m    <a href='file:///~/Desktop/algo_trader/venv/lib/python3.9/site-packages/kiteconnect/ticker.py?line=570'>571</a>\u001b[0m     )\n\u001b[1;32m    <a href='file:///~/Desktop/algo_trader/venv/lib/python3.9/site-packages/kiteconnect/ticker.py?line=572'>573</a>\u001b[0m     \u001b[39mfor\u001b[39;00m token \u001b[39min\u001b[39;00m instrument_tokens:\n\u001b[1;32m    <a href='file:///~/Desktop/algo_trader/venv/lib/python3.9/site-packages/kiteconnect/ticker.py?line=573'>574</a>\u001b[0m         \u001b[39mself\u001b[39m\u001b[39m.\u001b[39msubscribed_tokens[token] \u001b[39m=\u001b[39m \u001b[39mself\u001b[39m\u001b[39m.\u001b[39mMODE_QUOTE\n",
      "\u001b[0;31mAttributeError\u001b[0m: 'NoneType' object has no attribute 'sendMessage'"
     ]
    }
   ],
   "source": [
    "ticker.subscribe_tokens([58843655, 59736071])"
   ]
  },
  {
   "cell_type": "code",
   "execution_count": 8,
   "metadata": {},
   "outputs": [],
   "source": [
    "ticker.unsubscribe_tokens([59736071, 58843655])"
   ]
  },
  {
   "cell_type": "code",
   "execution_count": 9,
   "metadata": {},
   "outputs": [],
   "source": [
    "ticker.unsubscribe_list = [59736071]\n",
    "ticker.unsubscribe_from_token = True"
   ]
  },
  {
   "cell_type": "code",
   "execution_count": 71,
   "metadata": {},
   "outputs": [
    {
     "data": {
      "text/plain": [
       "True"
      ]
     },
     "execution_count": 71,
     "metadata": {},
     "output_type": "execute_result"
    }
   ],
   "source": [
    "ticker.kws.unsubscribe([59736071, 58843655])"
   ]
  },
  {
   "cell_type": "code",
   "execution_count": 38,
   "metadata": {},
   "outputs": [],
   "source": [
    "ticker.tokens.append(59736071)\n",
    "ticker.tokens = [59736071, 58843655]"
   ]
  },
  {
   "cell_type": "code",
   "execution_count": 62,
   "metadata": {},
   "outputs": [
    {
     "data": {
      "text/plain": [
       "True"
      ]
     },
     "execution_count": 62,
     "metadata": {},
     "output_type": "execute_result"
    }
   ],
   "source": [
    "ticker.kws.subscribe([59736071, 58843655])\n",
    "ticker.kws.set_mode(ticker.kws.MODE_FULL,ticker.tokens)"
   ]
  },
  {
   "cell_type": "code",
   "execution_count": 10,
   "metadata": {},
   "outputs": [
    {
     "data": {
      "text/plain": [
       "[58843655, 59736071]"
      ]
     },
     "execution_count": 10,
     "metadata": {},
     "output_type": "execute_result"
    }
   ],
   "source": [
    "ticker.tokens"
   ]
  },
  {
   "cell_type": "code",
   "execution_count": 12,
   "metadata": {},
   "outputs": [
    {
     "data": {
      "text/plain": [
       "8392.0"
      ]
     },
     "execution_count": 12,
     "metadata": {},
     "output_type": "execute_result"
    }
   ],
   "source": [
    "eval(r.get('59736071'))"
   ]
  },
  {
   "cell_type": "code",
   "execution_count": 13,
   "metadata": {},
   "outputs": [
    {
     "data": {
      "text/plain": [
       "70359.0"
      ]
     },
     "execution_count": 13,
     "metadata": {},
     "output_type": "execute_result"
    }
   ],
   "source": [
    "eval(r.get('58843655'))"
   ]
  },
  {
   "cell_type": "code",
   "execution_count": 10,
   "metadata": {},
   "outputs": [
    {
     "data": {
      "text/plain": [
       "{'buy': [{'quantity': 1, 'price': 550.2, 'orders': 1},\n",
       "  {'quantity': 2, 'price': 546.3, 'orders': 1},\n",
       "  {'quantity': 1, 'price': 546.0, 'orders': 1},\n",
       "  {'quantity': 1, 'price': 545.6, 'orders': 1},\n",
       "  {'quantity': 4, 'price': 545.0, 'orders': 2}],\n",
       " 'sell': [{'quantity': 2, 'price': 555.5, 'orders': 1},\n",
       "  {'quantity': 2, 'price': 556.3, 'orders': 1},\n",
       "  {'quantity': 2, 'price': 556.7, 'orders': 1},\n",
       "  {'quantity': 1, 'price': 557.0, 'orders': 1},\n",
       "  {'quantity': 1, 'price': 557.2, 'orders': 1}]}"
      ]
     },
     "execution_count": 10,
     "metadata": {},
     "output_type": "execute_result"
    }
   ],
   "source": [
    "eval(r.get('60751623'+'_depth'))"
   ]
  },
  {
   "cell_type": "code",
   "execution_count": 11,
   "metadata": {},
   "outputs": [],
   "source": [
    "ticker.subscribe_via_websocket([60751623])"
   ]
  },
  {
   "cell_type": "code",
   "execution_count": 19,
   "metadata": {},
   "outputs": [],
   "source": [
    "ticker.start_ticker()"
   ]
  },
  {
   "cell_type": "code",
   "execution_count": 22,
   "metadata": {},
   "outputs": [
    {
     "data": {
      "text/plain": [
       "458.0"
      ]
     },
     "execution_count": 22,
     "metadata": {},
     "output_type": "execute_result"
    }
   ],
   "source": [
    "eval(r.get('60751623'))"
   ]
  },
  {
   "cell_type": "code",
   "execution_count": 13,
   "metadata": {},
   "outputs": [
    {
     "data": {
      "text/plain": [
       "True"
      ]
     },
     "execution_count": 13,
     "metadata": {},
     "output_type": "execute_result"
    }
   ],
   "source": [
    "ticker.websocket_is_open"
   ]
  },
  {
   "cell_type": "code",
   "execution_count": 21,
   "metadata": {},
   "outputs": [
    {
     "data": {
      "text/plain": [
       "8873.0"
      ]
     },
     "execution_count": 21,
     "metadata": {},
     "output_type": "execute_result"
    }
   ],
   "source": [
    "eval(r.get(59736071))"
   ]
  },
  {
   "cell_type": "code",
   "execution_count": 9,
   "metadata": {},
   "outputs": [],
   "source": [
    "ticker.tokens.append(58843655)\n",
    "ticker.start_ticker()"
   ]
  },
  {
   "cell_type": "code",
   "execution_count": 12,
   "metadata": {},
   "outputs": [
    {
     "data": {
      "text/plain": [
       "69604.0"
      ]
     },
     "execution_count": 12,
     "metadata": {},
     "output_type": "execute_result"
    }
   ],
   "source": [
    "eval(r.get(58843655))"
   ]
  },
  {
   "cell_type": "code",
   "execution_count": 15,
   "metadata": {},
   "outputs": [
    {
     "data": {
      "text/plain": [
       "{'buy': [{'quantity': 1, 'price': 69595.0, 'orders': 1},\n",
       "  {'quantity': 1, 'price': 69591.0, 'orders': 1},\n",
       "  {'quantity': 1, 'price': 69575.0, 'orders': 1},\n",
       "  {'quantity': 1, 'price': 69570.0, 'orders': 1},\n",
       "  {'quantity': 1, 'price': 69569.0, 'orders': 1}],\n",
       " 'sell': [{'quantity': 2, 'price': 69632.0, 'orders': 2},\n",
       "  {'quantity': 1, 'price': 69642.0, 'orders': 1},\n",
       "  {'quantity': 1, 'price': 69646.0, 'orders': 1},\n",
       "  {'quantity': 1, 'price': 69659.0, 'orders': 1},\n",
       "  {'quantity': 1, 'price': 69669.0, 'orders': 1}]}"
      ]
     },
     "execution_count": 15,
     "metadata": {},
     "output_type": "execute_result"
    }
   ],
   "source": [
    "eval(r.get('58843655'+'_depth'))"
   ]
  },
  {
   "cell_type": "code",
   "execution_count": 16,
   "metadata": {},
   "outputs": [
    {
     "name": "stdout",
     "output_type": "stream",
     "text": [
      "Unsubscribing from tokens [58843655]\n"
     ]
    }
   ],
   "source": [
    "ticker.unsubscribe_list = [58843655]\n",
    "ticker.start_ticker()"
   ]
  },
  {
   "cell_type": "code",
   "execution_count": 17,
   "metadata": {},
   "outputs": [
    {
     "data": {
      "text/plain": [
       "[59736071]"
      ]
     },
     "execution_count": 17,
     "metadata": {},
     "output_type": "execute_result"
    }
   ],
   "source": [
    "ticker.tokens"
   ]
  },
  {
   "cell_type": "code",
   "execution_count": 18,
   "metadata": {},
   "outputs": [
    {
     "data": {
      "text/plain": [
       "69600.0"
      ]
     },
     "execution_count": 18,
     "metadata": {},
     "output_type": "execute_result"
    }
   ],
   "source": [
    "eval(r.get(58843655))"
   ]
  },
  {
   "cell_type": "code",
   "execution_count": 77,
   "metadata": {},
   "outputs": [],
   "source": [
    "ticker.tokens.append(60751623)\n",
    "ticker.start_ticker()"
   ]
  },
  {
   "cell_type": "code",
   "execution_count": 103,
   "metadata": {},
   "outputs": [
    {
     "data": {
      "text/plain": [
       "800.0"
      ]
     },
     "execution_count": 103,
     "metadata": {},
     "output_type": "execute_result"
    }
   ],
   "source": [
    "eval(r.get(60751879))"
   ]
  },
  {
   "cell_type": "code",
   "execution_count": 104,
   "metadata": {},
   "outputs": [
    {
     "data": {
      "text/plain": [
       "{'buy': [{'quantity': 2, 'price': 800.0, 'orders': 2},\n",
       "  {'quantity': 11, 'price': 797.0, 'orders': 4},\n",
       "  {'quantity': 3, 'price': 792.1, 'orders': 2},\n",
       "  {'quantity': 1, 'price': 792.0, 'orders': 1},\n",
       "  {'quantity': 3, 'price': 790.0, 'orders': 2}],\n",
       " 'sell': [{'quantity': 1, 'price': 852.0, 'orders': 1},\n",
       "  {'quantity': 1, 'price': 855.0, 'orders': 1},\n",
       "  {'quantity': 1, 'price': 860.0, 'orders': 1},\n",
       "  {'quantity': 1, 'price': 888.0, 'orders': 1},\n",
       "  {'quantity': 1, 'price': 890.0, 'orders': 1}]}"
      ]
     },
     "execution_count": 104,
     "metadata": {},
     "output_type": "execute_result"
    }
   ],
   "source": [
    "eval(r.get('60751879'+'_depth'))"
   ]
  },
  {
   "cell_type": "code",
   "execution_count": 98,
   "metadata": {},
   "outputs": [
    {
     "data": {
      "text/plain": [
       "[59736071, 60751623, 60751623, 60751879]"
      ]
     },
     "execution_count": 98,
     "metadata": {},
     "output_type": "execute_result"
    }
   ],
   "source": [
    "ticker.tokens.append(60751879)\n",
    "ticker.tokens"
   ]
  },
  {
   "cell_type": "code",
   "execution_count": 99,
   "metadata": {},
   "outputs": [
    {
     "name": "stdout",
     "output_type": "stream",
     "text": [
      "Unsubscribing from tokens [60751879]\n"
     ]
    }
   ],
   "source": [
    "ticker.unsubscribe_list = [60751879]\n",
    "ticker.tokens.remove(60751879)\n",
    "ticker.start_ticker()"
   ]
  },
  {
   "cell_type": "code",
   "execution_count": 6,
   "metadata": {},
   "outputs": [],
   "source": [
    "ticker.stop_ticker = True"
   ]
  },
  {
   "cell_type": "code",
   "execution_count": 20,
   "metadata": {},
   "outputs": [],
   "source": [
    "ticker.start_ticker()"
   ]
  },
  {
   "cell_type": "code",
   "execution_count": 21,
   "metadata": {},
   "outputs": [],
   "source": [
    "ticker.kws.close()"
   ]
  },
  {
   "cell_type": "code",
   "execution_count": 28,
   "metadata": {},
   "outputs": [
    {
     "name": "stderr",
     "output_type": "stream",
     "text": [
      "Connection error: 1006 - connection was closed uncleanly (peer dropped the TCP connection without previous WebSocket closing handshake)\n",
      "Connection closed: 1006 - connection was closed uncleanly (peer dropped the TCP connection without previous WebSocket closing handshake)\n"
     ]
    }
   ],
   "source": [
    "ticker.kws.stop()"
   ]
  },
  {
   "cell_type": "code",
   "execution_count": 27,
   "metadata": {},
   "outputs": [
    {
     "data": {
      "text/plain": [
       "(True, True)"
      ]
     },
     "execution_count": 27,
     "metadata": {},
     "output_type": "execute_result"
    }
   ],
   "source": [
    "ticker.websocket_is_open, ticker.kws.is_connected()"
   ]
  },
  {
   "cell_type": "code",
   "execution_count": 10,
   "metadata": {},
   "outputs": [
    {
     "data": {
      "text/plain": [
       "True"
      ]
     },
     "execution_count": 10,
     "metadata": {},
     "output_type": "execute_result"
    }
   ],
   "source": [
    "type(datetime.datetime(2022, 1, 24, 10, 39, 49)) == datetime.datetime"
   ]
  },
  {
   "cell_type": "code",
   "execution_count": 11,
   "metadata": {},
   "outputs": [
    {
     "data": {
      "text/plain": [
       "10"
      ]
     },
     "execution_count": 11,
     "metadata": {},
     "output_type": "execute_result"
    }
   ],
   "source": [
    "datetime.datetime(2022, 1, 24, 10, 39, 49).hour"
   ]
  },
  {
   "cell_type": "code",
   "execution_count": 5,
   "metadata": {},
   "outputs": [
    {
     "data": {
      "text/plain": [
       "[datetime.datetime(2022, 3, 7, 13, 14, 13), 177.0, 8356050]"
      ]
     },
     "execution_count": 5,
     "metadata": {},
     "output_type": "execute_result"
    }
   ],
   "source": [
    "ticker.ticker_dict[18420482][-1]"
   ]
  },
  {
   "cell_type": "code",
   "execution_count": 15,
   "metadata": {},
   "outputs": [
    {
     "data": {
      "text/plain": [
       "[datetime.datetime(2022, 3, 7, 13, 14, 31), 177.75, 8361000]"
      ]
     },
     "execution_count": 15,
     "metadata": {},
     "output_type": "execute_result"
    }
   ],
   "source": [
    "ticker.ticker_dict[18420482][-1]"
   ]
  },
  {
   "cell_type": "code",
   "execution_count": 21,
   "metadata": {},
   "outputs": [
    {
     "data": {
      "text/plain": [
       "datetime.datetime(2022, 3, 7, 12, 48, 57)"
      ]
     },
     "execution_count": 21,
     "metadata": {},
     "output_type": "execute_result"
    }
   ],
   "source": [
    "datetime.datetime.strptime('2022-03-07T12:48:57', '%Y-%m-%dT%H:%M:%S')"
   ]
  },
  {
   "cell_type": "code",
   "execution_count": 16,
   "metadata": {},
   "outputs": [
    {
     "data": {
      "text/plain": [
       "('NIFTY2231015850CE', 18419458)"
      ]
     },
     "execution_count": 16,
     "metadata": {},
     "output_type": "execute_result"
    }
   ],
   "source": [
    "kite_func.get_options_symbol_and_token('NIFTY', 15850, 'CE')"
   ]
  },
  {
   "cell_type": "code",
   "execution_count": 17,
   "metadata": {},
   "outputs": [
    {
     "data": {
      "text/plain": [
       "[datetime.datetime(2022, 3, 7, 13, 18, 43), 228.65, 11560200]"
      ]
     },
     "execution_count": 17,
     "metadata": {},
     "output_type": "execute_result"
    }
   ],
   "source": [
    "ticker.ticker_dict[18419458][-1]"
   ]
  },
  {
   "cell_type": "code",
   "execution_count": 24,
   "metadata": {},
   "outputs": [
    {
     "data": {
      "text/plain": [
       "[datetime.datetime(2022, 3, 7, 13, 18, 57), 232.05, 11563050]"
      ]
     },
     "execution_count": 24,
     "metadata": {},
     "output_type": "execute_result"
    }
   ],
   "source": [
    "ticker.ticker_dict[18419458][-1]"
   ]
  },
  {
   "cell_type": "code",
   "execution_count": 37,
   "metadata": {},
   "outputs": [
    {
     "data": {
      "text/plain": [
       "{'buy': [{'quantity': 50, 'price': 211.3, 'orders': 1},\n",
       "  {'quantity': 250, 'price': 211.25, 'orders': 5},\n",
       "  {'quantity': 200, 'price': 211.2, 'orders': 4},\n",
       "  {'quantity': 100, 'price': 211.15, 'orders': 2},\n",
       "  {'quantity': 50, 'price': 211.1, 'orders': 1}],\n",
       " 'sell': [{'quantity': 50, 'price': 211.7, 'orders': 1},\n",
       "  {'quantity': 450, 'price': 211.8, 'orders': 4},\n",
       "  {'quantity': 450, 'price': 211.85, 'orders': 2},\n",
       "  {'quantity': 100, 'price': 211.95, 'orders': 2},\n",
       "  {'quantity': 150, 'price': 212.0, 'orders': 2}]}"
      ]
     },
     "execution_count": 37,
     "metadata": {},
     "output_type": "execute_result"
    }
   ],
   "source": [
    "ticker.depth_dict[18419458]"
   ]
  },
  {
   "cell_type": "code",
   "execution_count": 5,
   "metadata": {},
   "outputs": [
    {
     "data": {
      "text/plain": [
       "True"
      ]
     },
     "execution_count": 5,
     "metadata": {},
     "output_type": "execute_result"
    }
   ],
   "source": [
    "ticker.websocket_is_open"
   ]
  },
  {
   "cell_type": "code",
   "execution_count": 6,
   "metadata": {},
   "outputs": [
    {
     "data": {
      "text/plain": [
       "[[datetime.datetime(2022, 3, 7, 14, 13, 3), 192.3, 13771600],\n",
       " [datetime.datetime(2022, 3, 7, 14, 13, 3), 191.4, 13771700],\n",
       " [datetime.datetime(2022, 3, 7, 14, 13, 4), 191.35, 13771700],\n",
       " [datetime.datetime(2022, 3, 7, 14, 13, 4), 191.55, 13772850],\n",
       " [datetime.datetime(2022, 3, 7, 14, 13, 5), 190.05, 13779500],\n",
       " [datetime.datetime(2022, 3, 7, 14, 13, 6), 189.75, 13777400],\n",
       " [datetime.datetime(2022, 3, 7, 14, 13, 6), 190.0, 13777400],\n",
       " [datetime.datetime(2022, 3, 7, 14, 13, 7), 190.0, 13781500],\n",
       " [datetime.datetime(2022, 3, 7, 14, 13, 8), 189.85, 13782600],\n",
       " [datetime.datetime(2022, 3, 7, 14, 13, 11), 189.25, 13782600],\n",
       " [datetime.datetime(2022, 3, 7, 14, 13, 11), 189.95, 13785950],\n",
       " [datetime.datetime(2022, 3, 7, 14, 13, 13), 189.3, 13786200],\n",
       " [datetime.datetime(2022, 3, 7, 14, 13, 14), 189.4, 13786250],\n",
       " [datetime.datetime(2022, 3, 7, 14, 13, 15), 189.8, 13792050],\n",
       " [datetime.datetime(2022, 3, 7, 14, 13, 15), 189.5, 13792850],\n",
       " [datetime.datetime(2022, 3, 7, 14, 13, 16), 190.15, 13797000],\n",
       " [datetime.datetime(2022, 3, 7, 14, 13, 16), 190.1, 13797250],\n",
       " [datetime.datetime(2022, 3, 7, 14, 13, 19), 191.45, 13801450],\n",
       " [datetime.datetime(2022, 3, 7, 14, 13, 20), 191.55, 13801450],\n",
       " [datetime.datetime(2022, 3, 7, 14, 13, 21), 190.45, 13804450],\n",
       " [datetime.datetime(2022, 3, 7, 14, 13, 21), 191.25, 13806100],\n",
       " [datetime.datetime(2022, 3, 7, 14, 13, 24), 191.5, 13806100],\n",
       " [datetime.datetime(2022, 3, 7, 14, 13, 24), 191.5, 13806300],\n",
       " [datetime.datetime(2022, 3, 7, 14, 13, 25), 191.3, 13810450],\n",
       " [datetime.datetime(2022, 3, 7, 14, 13, 26), 192.45, 13810200],\n",
       " [datetime.datetime(2022, 3, 7, 14, 13, 27), 191.85, 13811000],\n",
       " [datetime.datetime(2022, 3, 7, 14, 13, 27), 192.3, 13811150],\n",
       " [datetime.datetime(2022, 3, 7, 14, 13, 28), 192.0, 13811650],\n",
       " [datetime.datetime(2022, 3, 7, 14, 13, 29), 192.35, 13812500],\n",
       " [datetime.datetime(2022, 3, 7, 14, 13, 29), 192.6, 13812850],\n",
       " [datetime.datetime(2022, 3, 7, 14, 13, 30), 193.3, 13814800],\n",
       " [datetime.datetime(2022, 3, 7, 14, 13, 33), 191.85, 13814800],\n",
       " [datetime.datetime(2022, 3, 7, 14, 13, 33), 190.6, 13816750],\n",
       " [datetime.datetime(2022, 3, 7, 14, 13, 35), 190.0, 13818700],\n",
       " [datetime.datetime(2022, 3, 7, 14, 13, 36), 189.55, 13819400],\n",
       " [datetime.datetime(2022, 3, 7, 14, 13, 36), 190.0, 13820250],\n",
       " [datetime.datetime(2022, 3, 7, 14, 13, 37), 189.7, 13820300],\n",
       " [datetime.datetime(2022, 3, 7, 14, 13, 38), 189.6, 13821000],\n",
       " [datetime.datetime(2022, 3, 7, 14, 13, 38), 189.8, 13821150],\n",
       " [datetime.datetime(2022, 3, 7, 14, 13, 40), 189.4, 13822300],\n",
       " [datetime.datetime(2022, 3, 7, 14, 13, 40), 189.8, 13822400],\n",
       " [datetime.datetime(2022, 3, 7, 14, 13, 41), 189.7, 13822850],\n",
       " [datetime.datetime(2022, 3, 7, 14, 13, 43), 190.75, 13822850],\n",
       " [datetime.datetime(2022, 3, 7, 14, 13, 43), 189.8, 13824250],\n",
       " [datetime.datetime(2022, 3, 7, 14, 13, 44), 190.7, 13824950],\n",
       " [datetime.datetime(2022, 3, 7, 14, 13, 45), 191.3, 13825200],\n",
       " [datetime.datetime(2022, 3, 7, 14, 13, 45), 191.4, 13825450],\n",
       " [datetime.datetime(2022, 3, 7, 14, 13, 46), 191.9, 13825750],\n",
       " [datetime.datetime(2022, 3, 7, 14, 13, 48), 192.1, 13825800],\n",
       " [datetime.datetime(2022, 3, 7, 14, 13, 49), 192.25, 13826650],\n",
       " [datetime.datetime(2022, 3, 7, 14, 13, 51), 193.15, 13830450],\n",
       " [datetime.datetime(2022, 3, 7, 14, 13, 52), 193.5, 13831050],\n",
       " [datetime.datetime(2022, 3, 7, 14, 13, 53), 193.2, 13831050],\n",
       " [datetime.datetime(2022, 3, 7, 14, 13, 54), 194.8, 13832400],\n",
       " [datetime.datetime(2022, 3, 7, 14, 13, 55), 194.45, 13832450],\n",
       " [datetime.datetime(2022, 3, 7, 14, 13, 57), 194.95, 13832450],\n",
       " [datetime.datetime(2022, 3, 7, 14, 13, 57), 196.0, 13834450],\n",
       " [datetime.datetime(2022, 3, 7, 14, 13, 58), 195.85, 13834650],\n",
       " [datetime.datetime(2022, 3, 7, 14, 13, 58), 196.0, 13834550],\n",
       " [datetime.datetime(2022, 3, 7, 14, 13, 59), 196.45, 13834550],\n",
       " [datetime.datetime(2022, 3, 7, 14, 14), 195.0, 13836650],\n",
       " [datetime.datetime(2022, 3, 7, 14, 14, 1), 195.0, 13839350],\n",
       " [datetime.datetime(2022, 3, 7, 14, 14, 2), 194.6, 13839500],\n",
       " [datetime.datetime(2022, 3, 7, 14, 14, 3), 194.6, 13839600],\n",
       " [datetime.datetime(2022, 3, 7, 14, 14, 5), 194.85, 13842150],\n",
       " [datetime.datetime(2022, 3, 7, 14, 14, 5), 195.2, 13842200],\n",
       " [datetime.datetime(2022, 3, 7, 14, 14, 6), 194.55, 13842250],\n",
       " [datetime.datetime(2022, 3, 7, 14, 14, 7), 193.85, 13842550],\n",
       " [datetime.datetime(2022, 3, 7, 14, 14, 7), 194.0, 13845150],\n",
       " [datetime.datetime(2022, 3, 7, 14, 14, 8), 194.15, 13845400],\n",
       " [datetime.datetime(2022, 3, 7, 14, 14, 9), 194.2, 13845400],\n",
       " [datetime.datetime(2022, 3, 7, 14, 14, 10), 194.2, 13848400],\n",
       " [datetime.datetime(2022, 3, 7, 14, 14, 11), 194.35, 13848500],\n",
       " [datetime.datetime(2022, 3, 7, 14, 14, 12), 193.85, 13848500],\n",
       " [datetime.datetime(2022, 3, 7, 14, 14, 13), 194.55, 13849750],\n",
       " [datetime.datetime(2022, 3, 7, 14, 14, 14), 195.1, 13850400],\n",
       " [datetime.datetime(2022, 3, 7, 14, 14, 15), 194.9, 13850700],\n",
       " [datetime.datetime(2022, 3, 7, 14, 14, 15), 194.35, 13850850],\n",
       " [datetime.datetime(2022, 3, 7, 14, 14, 16), 194.95, 13850850],\n",
       " [datetime.datetime(2022, 3, 7, 14, 14, 16), 194.95, 13851000],\n",
       " [datetime.datetime(2022, 3, 7, 14, 14, 18), 195.7, 13853550],\n",
       " [datetime.datetime(2022, 3, 7, 14, 14, 19), 194.95, 13854250],\n",
       " [datetime.datetime(2022, 3, 7, 14, 14, 21), 192.85, 13854250],\n",
       " [datetime.datetime(2022, 3, 7, 14, 14, 22), 193.25, 13858600],\n",
       " [datetime.datetime(2022, 3, 7, 14, 14, 23), 194.0, 13859150],\n",
       " [datetime.datetime(2022, 3, 7, 14, 14, 23), 194.4, 13859600],\n",
       " [datetime.datetime(2022, 3, 7, 14, 14, 24), 194.0, 13860000],\n",
       " [datetime.datetime(2022, 3, 7, 14, 14, 26), 194.05, 13860850],\n",
       " [datetime.datetime(2022, 3, 7, 14, 14, 27), 193.8, 13860850],\n",
       " [datetime.datetime(2022, 3, 7, 14, 14, 27), 194.3, 13861150],\n",
       " [datetime.datetime(2022, 3, 7, 14, 14, 30), 195.35, 13862000],\n",
       " [datetime.datetime(2022, 3, 7, 14, 14, 30), 195.1, 13862550],\n",
       " [datetime.datetime(2022, 3, 7, 14, 14, 31), 195.0, 13862600],\n",
       " [datetime.datetime(2022, 3, 7, 14, 14, 31), 195.15, 13862950],\n",
       " [datetime.datetime(2022, 3, 7, 14, 14, 32), 194.95, 13863750],\n",
       " [datetime.datetime(2022, 3, 7, 14, 14, 33), 194.45, 13863850],\n",
       " [datetime.datetime(2022, 3, 7, 14, 14, 33), 195.0, 13864000],\n",
       " [datetime.datetime(2022, 3, 7, 14, 14, 34), 195.05, 13864100],\n",
       " [datetime.datetime(2022, 3, 7, 14, 14, 36), 194.95, 13864200],\n",
       " [datetime.datetime(2022, 3, 7, 14, 14, 37), 194.6, 13864850],\n",
       " [datetime.datetime(2022, 3, 7, 14, 14, 39), 194.45, 13864900],\n",
       " [datetime.datetime(2022, 3, 7, 14, 14, 40), 195.8, 13866500],\n",
       " [datetime.datetime(2022, 3, 7, 14, 14, 41), 195.25, 13866500],\n",
       " [datetime.datetime(2022, 3, 7, 14, 14, 41), 194.15, 13867050],\n",
       " [datetime.datetime(2022, 3, 7, 14, 14, 42), 194.1, 13867050],\n",
       " [datetime.datetime(2022, 3, 7, 14, 14, 42), 194.3, 13869500],\n",
       " [datetime.datetime(2022, 3, 7, 14, 14, 43), 195.15, 13869500],\n",
       " [datetime.datetime(2022, 3, 7, 14, 14, 44), 195.15, 13869650],\n",
       " [datetime.datetime(2022, 3, 7, 14, 14, 45), 194.75, 13869650],\n",
       " [datetime.datetime(2022, 3, 7, 14, 14, 46), 194.5, 13871450],\n",
       " [datetime.datetime(2022, 3, 7, 14, 14, 47), 194.1, 13871600],\n",
       " [datetime.datetime(2022, 3, 7, 14, 14, 49), 193.1, 13872550],\n",
       " [datetime.datetime(2022, 3, 7, 14, 14, 50), 193.25, 13872650],\n",
       " [datetime.datetime(2022, 3, 7, 14, 14, 50), 193.25, 13872750],\n",
       " [datetime.datetime(2022, 3, 7, 14, 14, 51), 193.0, 13872850],\n",
       " [datetime.datetime(2022, 3, 7, 14, 14, 56), 193.1, 13875100],\n",
       " [datetime.datetime(2022, 3, 7, 14, 14, 56), 193.5, 13875100],\n",
       " [datetime.datetime(2022, 3, 7, 14, 14, 57), 193.95, 13882650],\n",
       " [datetime.datetime(2022, 3, 7, 14, 14, 59), 193.4, 13882650],\n",
       " [datetime.datetime(2022, 3, 7, 14, 14, 59), 193.15, 13888500],\n",
       " [datetime.datetime(2022, 3, 7, 14, 15), 193.2, 13888500],\n",
       " [datetime.datetime(2022, 3, 7, 14, 15), 192.55, 13889000],\n",
       " [datetime.datetime(2022, 3, 7, 14, 15, 2), 192.6, 13890100],\n",
       " [datetime.datetime(2022, 3, 7, 14, 15, 4), 191.4, 13892500],\n",
       " [datetime.datetime(2022, 3, 7, 14, 15, 7), 191.35, 13892500],\n",
       " [datetime.datetime(2022, 3, 7, 14, 15, 7), 190.75, 13893550],\n",
       " [datetime.datetime(2022, 3, 7, 14, 15, 8), 191.4, 13893700],\n",
       " [datetime.datetime(2022, 3, 7, 14, 15, 9), 191.2, 13893750],\n",
       " [datetime.datetime(2022, 3, 7, 14, 15, 9), 191.65, 13894450],\n",
       " [datetime.datetime(2022, 3, 7, 14, 15, 10), 191.75, 13894500],\n",
       " [datetime.datetime(2022, 3, 7, 14, 15, 11), 192.35, 13894700],\n",
       " [datetime.datetime(2022, 3, 7, 14, 15, 13), 192.55, 13898550],\n",
       " [datetime.datetime(2022, 3, 7, 14, 15, 15), 192.8, 13900050],\n",
       " [datetime.datetime(2022, 3, 7, 14, 15, 16), 192.75, 13900050],\n",
       " [datetime.datetime(2022, 3, 7, 14, 15, 16), 192.05, 13900750],\n",
       " [datetime.datetime(2022, 3, 7, 14, 15, 17), 192.6, 13900750],\n",
       " [datetime.datetime(2022, 3, 7, 14, 15, 18), 192.5, 13900950],\n",
       " [datetime.datetime(2022, 3, 7, 14, 15, 18), 192.25, 13900950],\n",
       " [datetime.datetime(2022, 3, 7, 14, 15, 19), 192.25, 13901150],\n",
       " [datetime.datetime(2022, 3, 7, 14, 15, 20), 192.2, 13901300],\n",
       " [datetime.datetime(2022, 3, 7, 14, 15, 22), 191.0, 13902900],\n",
       " [datetime.datetime(2022, 3, 7, 14, 15, 22), 192.05, 13903250],\n",
       " [datetime.datetime(2022, 3, 7, 14, 15, 23), 192.45, 13903300],\n",
       " [datetime.datetime(2022, 3, 7, 14, 15, 25), 193.05, 13903300],\n",
       " [datetime.datetime(2022, 3, 7, 14, 15, 25), 193.05, 13905600],\n",
       " [datetime.datetime(2022, 3, 7, 14, 15, 26), 192.95, 13906200],\n",
       " [datetime.datetime(2022, 3, 7, 14, 15, 27), 192.6, 13906200],\n",
       " [datetime.datetime(2022, 3, 7, 14, 15, 27), 192.9, 13906400],\n",
       " [datetime.datetime(2022, 3, 7, 14, 15, 28), 194.25, 13906400],\n",
       " [datetime.datetime(2022, 3, 7, 14, 15, 29), 194.2, 13909050],\n",
       " [datetime.datetime(2022, 3, 7, 14, 15, 29), 194.25, 13909100],\n",
       " [datetime.datetime(2022, 3, 7, 14, 15, 31), 194.0, 13909700],\n",
       " [datetime.datetime(2022, 3, 7, 14, 15, 31), 194.65, 13909700],\n",
       " [datetime.datetime(2022, 3, 7, 14, 15, 32), 194.95, 13911450],\n",
       " [datetime.datetime(2022, 3, 7, 14, 15, 33), 194.9, 13912600],\n",
       " [datetime.datetime(2022, 3, 7, 14, 15, 34), 194.85, 13912600],\n",
       " [datetime.datetime(2022, 3, 7, 14, 15, 34), 195.25, 13915600],\n",
       " [datetime.datetime(2022, 3, 7, 14, 15, 35), 195.1, 13915600],\n",
       " [datetime.datetime(2022, 3, 7, 14, 15, 36), 195.1, 13915750],\n",
       " [datetime.datetime(2022, 3, 7, 14, 15, 36), 195.3, 13915750],\n",
       " [datetime.datetime(2022, 3, 7, 14, 15, 37), 195.3, 13916350],\n",
       " [datetime.datetime(2022, 3, 7, 14, 15, 38), 195.2, 13916650],\n",
       " [datetime.datetime(2022, 3, 7, 14, 15, 39), 195.4, 13916650],\n",
       " [datetime.datetime(2022, 3, 7, 14, 15, 40), 195.3, 13920000],\n",
       " [datetime.datetime(2022, 3, 7, 14, 15, 42), 193.9, 13920700],\n",
       " [datetime.datetime(2022, 3, 7, 14, 15, 43), 192.95, 13921200],\n",
       " [datetime.datetime(2022, 3, 7, 14, 15, 43), 192.45, 13921200],\n",
       " [datetime.datetime(2022, 3, 7, 14, 15, 44), 193.1, 13922850],\n",
       " [datetime.datetime(2022, 3, 7, 14, 15, 45), 192.15, 13923100],\n",
       " [datetime.datetime(2022, 3, 7, 14, 15, 45), 192.15, 13923150],\n",
       " [datetime.datetime(2022, 3, 7, 14, 15, 46), 192.15, 13923600],\n",
       " [datetime.datetime(2022, 3, 7, 14, 15, 48), 191.2, 13924850],\n",
       " [datetime.datetime(2022, 3, 7, 14, 15, 48), 191.2, 13926850],\n",
       " [datetime.datetime(2022, 3, 7, 14, 15, 49), 191.3, 13927150],\n",
       " [datetime.datetime(2022, 3, 7, 14, 15, 50), 191.3, 13927450],\n",
       " [datetime.datetime(2022, 3, 7, 14, 15, 52), 191.95, 13928250],\n",
       " [datetime.datetime(2022, 3, 7, 14, 15, 53), 192.5, 13928300],\n",
       " [datetime.datetime(2022, 3, 7, 14, 15, 54), 191.5, 13928300],\n",
       " [datetime.datetime(2022, 3, 7, 14, 15, 54), 191.3, 13929450],\n",
       " [datetime.datetime(2022, 3, 7, 14, 15, 55), 190.9, 13929450],\n",
       " [datetime.datetime(2022, 3, 7, 14, 15, 56), 190.9, 13930200],\n",
       " [datetime.datetime(2022, 3, 7, 14, 15, 57), 191.0, 13930200],\n",
       " [datetime.datetime(2022, 3, 7, 14, 15, 58), 190.6, 13934900],\n",
       " [datetime.datetime(2022, 3, 7, 14, 15, 59), 190.0, 13935950],\n",
       " [datetime.datetime(2022, 3, 7, 14, 16), 189.6, 13939750],\n",
       " [datetime.datetime(2022, 3, 7, 14, 16, 1), 189.05, 13942050],\n",
       " [datetime.datetime(2022, 3, 7, 14, 16, 2), 188.65, 13942150],\n",
       " [datetime.datetime(2022, 3, 7, 14, 16, 4), 189.25, 13945050],\n",
       " [datetime.datetime(2022, 3, 7, 14, 16, 5), 189.45, 13945400],\n",
       " [datetime.datetime(2022, 3, 7, 14, 16, 5), 189.55, 13946150],\n",
       " [datetime.datetime(2022, 3, 7, 14, 16, 6), 188.8, 13946150],\n",
       " [datetime.datetime(2022, 3, 7, 14, 16, 7), 188.2, 13948650],\n",
       " [datetime.datetime(2022, 3, 7, 14, 16, 7), 188.8, 13947600],\n",
       " [datetime.datetime(2022, 3, 7, 14, 16, 8), 189.05, 13949900],\n",
       " [datetime.datetime(2022, 3, 7, 14, 16, 9), 189.35, 13950000],\n",
       " [datetime.datetime(2022, 3, 7, 14, 16, 9), 188.45, 13957700],\n",
       " [datetime.datetime(2022, 3, 7, 14, 16, 10), 187.7, 13957700],\n",
       " [datetime.datetime(2022, 3, 7, 14, 16, 10), 187.7, 13959700],\n",
       " [datetime.datetime(2022, 3, 7, 14, 16, 12), 187.4, 13959700],\n",
       " [datetime.datetime(2022, 3, 7, 14, 16, 12), 188.4, 13967250],\n",
       " [datetime.datetime(2022, 3, 7, 14, 16, 13), 188.4, 13963600],\n",
       " [datetime.datetime(2022, 3, 7, 14, 16, 15), 187.65, 13971050],\n",
       " [datetime.datetime(2022, 3, 7, 14, 16, 15), 187.4, 13972200],\n",
       " [datetime.datetime(2022, 3, 7, 14, 16, 16), 187.65, 13971050],\n",
       " [datetime.datetime(2022, 3, 7, 14, 16, 17), 187.4, 13971050],\n",
       " [datetime.datetime(2022, 3, 7, 14, 16, 17), 187.8, 13974550],\n",
       " [datetime.datetime(2022, 3, 7, 14, 16, 18), 187.55, 13974950],\n",
       " [datetime.datetime(2022, 3, 7, 14, 16, 18), 187.2, 13975150],\n",
       " [datetime.datetime(2022, 3, 7, 14, 16, 19), 186.35, 13975650],\n",
       " [datetime.datetime(2022, 3, 7, 14, 16, 21), 185.85, 13977750],\n",
       " [datetime.datetime(2022, 3, 7, 14, 16, 21), 186.0, 13977900],\n",
       " [datetime.datetime(2022, 3, 7, 14, 16, 24), 186.85, 13980900],\n",
       " [datetime.datetime(2022, 3, 7, 14, 16, 24), 186.55, 13980900],\n",
       " [datetime.datetime(2022, 3, 7, 14, 16, 25), 187.1, 13983050],\n",
       " [datetime.datetime(2022, 3, 7, 14, 16, 26), 187.1, 13983300],\n",
       " [datetime.datetime(2022, 3, 7, 14, 16, 27), 186.9, 13983300],\n",
       " [datetime.datetime(2022, 3, 7, 14, 16, 28), 187.95, 13985750],\n",
       " [datetime.datetime(2022, 3, 7, 14, 16, 29), 186.8, 13985750],\n",
       " [datetime.datetime(2022, 3, 7, 14, 16, 30), 186.95, 13986500],\n",
       " [datetime.datetime(2022, 3, 7, 14, 16, 31), 186.65, 13986500],\n",
       " [datetime.datetime(2022, 3, 7, 14, 16, 32), 187.1, 13987250],\n",
       " [datetime.datetime(2022, 3, 7, 14, 16, 32), 187.1, 13987550],\n",
       " [datetime.datetime(2022, 3, 7, 14, 16, 34), 188.45, 13988050],\n",
       " [datetime.datetime(2022, 3, 7, 14, 16, 34), 188.75, 13992000],\n",
       " [datetime.datetime(2022, 3, 7, 14, 16, 35), 188.0, 13992450],\n",
       " [datetime.datetime(2022, 3, 7, 14, 16, 37), 188.1, 13993200],\n",
       " [datetime.datetime(2022, 3, 7, 14, 16, 38), 188.15, 13994250],\n",
       " [datetime.datetime(2022, 3, 7, 14, 16, 38), 187.4, 13994900],\n",
       " [datetime.datetime(2022, 3, 7, 14, 16, 39), 187.6, 13995000],\n",
       " [datetime.datetime(2022, 3, 7, 14, 16, 39), 187.6, 13995050],\n",
       " [datetime.datetime(2022, 3, 7, 14, 16, 41), 187.0, 13995100],\n",
       " [datetime.datetime(2022, 3, 7, 14, 16, 42), 187.0, 13998250],\n",
       " [datetime.datetime(2022, 3, 7, 14, 16, 44), 186.5, 14001200],\n",
       " [datetime.datetime(2022, 3, 7, 14, 16, 45), 186.35, 14001600],\n",
       " [datetime.datetime(2022, 3, 7, 14, 16, 45), 186.3, 14001650],\n",
       " [datetime.datetime(2022, 3, 7, 14, 16, 46), 186.2, 14001750],\n",
       " [datetime.datetime(2022, 3, 7, 14, 16, 48), 185.5, 14011500],\n",
       " [datetime.datetime(2022, 3, 7, 14, 16, 49), 184.7, 14012300],\n",
       " [datetime.datetime(2022, 3, 7, 14, 16, 50), 184.55, 14014550],\n",
       " [datetime.datetime(2022, 3, 7, 14, 16, 51), 184.6, 14014550],\n",
       " [datetime.datetime(2022, 3, 7, 14, 16, 51), 184.55, 14019050],\n",
       " [datetime.datetime(2022, 3, 7, 14, 16, 52), 184.2, 14019900],\n",
       " [datetime.datetime(2022, 3, 7, 14, 16, 53), 182.95, 14022950],\n",
       " [datetime.datetime(2022, 3, 7, 14, 16, 54), 184.3, 14025950],\n",
       " [datetime.datetime(2022, 3, 7, 14, 16, 55), 184.2, 14031300],\n",
       " [datetime.datetime(2022, 3, 7, 14, 16, 56), 184.8, 14032950],\n",
       " [datetime.datetime(2022, 3, 7, 14, 16, 57), 184.35, 14033150],\n",
       " [datetime.datetime(2022, 3, 7, 14, 16, 57), 184.55, 14034550],\n",
       " [datetime.datetime(2022, 3, 7, 14, 16, 58), 184.5, 14034550],\n",
       " [datetime.datetime(2022, 3, 7, 14, 16, 58), 184.5, 14035000],\n",
       " [datetime.datetime(2022, 3, 7, 14, 17), 183.7, 14037250],\n",
       " [datetime.datetime(2022, 3, 7, 14, 17, 1), 183.6, 14037550],\n",
       " [datetime.datetime(2022, 3, 7, 14, 17, 2), 182.65, 14041300],\n",
       " [datetime.datetime(2022, 3, 7, 14, 17, 3), 182.25, 14045450],\n",
       " [datetime.datetime(2022, 3, 7, 14, 17, 4), 182.9, 14045450],\n",
       " [datetime.datetime(2022, 3, 7, 14, 17, 4), 184.3, 14047150],\n",
       " [datetime.datetime(2022, 3, 7, 14, 17, 5), 185.0, 14047450],\n",
       " [datetime.datetime(2022, 3, 7, 14, 17, 5), 185.75, 14047450],\n",
       " [datetime.datetime(2022, 3, 7, 14, 17, 6), 184.95, 14055050],\n",
       " [datetime.datetime(2022, 3, 7, 14, 17, 8), 184.15, 14059650],\n",
       " [datetime.datetime(2022, 3, 7, 14, 17, 9), 184.4, 14055850],\n",
       " [datetime.datetime(2022, 3, 7, 14, 17, 9), 184.45, 14060100],\n",
       " [datetime.datetime(2022, 3, 7, 14, 17, 10), 185.95, 14065150],\n",
       " [datetime.datetime(2022, 3, 7, 14, 17, 11), 185.95, 14065350],\n",
       " [datetime.datetime(2022, 3, 7, 14, 17, 11), 186.45, 14065350],\n",
       " [datetime.datetime(2022, 3, 7, 14, 17, 12), 186.45, 14065450],\n",
       " [datetime.datetime(2022, 3, 7, 14, 17, 13), 186.35, 14065500],\n",
       " [datetime.datetime(2022, 3, 7, 14, 17, 13), 186.4, 14069850],\n",
       " [datetime.datetime(2022, 3, 7, 14, 17, 14), 185.75, 14069850],\n",
       " [datetime.datetime(2022, 3, 7, 14, 17, 15), 186.1, 14074850],\n",
       " [datetime.datetime(2022, 3, 7, 14, 17, 15), 183.8, 14076900],\n",
       " [datetime.datetime(2022, 3, 7, 14, 17, 16), 185.3, 14075550],\n",
       " [datetime.datetime(2022, 3, 7, 14, 17, 16), 184.45, 14077700],\n",
       " [datetime.datetime(2022, 3, 7, 14, 17, 17), 184.3, 14078900],\n",
       " [datetime.datetime(2022, 3, 7, 14, 17, 18), 184.1, 14078900],\n",
       " [datetime.datetime(2022, 3, 7, 14, 17, 18), 184.1, 14081000],\n",
       " [datetime.datetime(2022, 3, 7, 14, 17, 19), 184.45, 14080900],\n",
       " [datetime.datetime(2022, 3, 7, 14, 17, 20), 184.85, 14082550],\n",
       " [datetime.datetime(2022, 3, 7, 14, 17, 20), 185.55, 14085950],\n",
       " [datetime.datetime(2022, 3, 7, 14, 17, 21), 184.6, 14084150],\n",
       " [datetime.datetime(2022, 3, 7, 14, 17, 21), 185.55, 14085950],\n",
       " [datetime.datetime(2022, 3, 7, 14, 17, 22), 184.95, 14086750],\n",
       " [datetime.datetime(2022, 3, 7, 14, 17, 23), 185.3, 14086650],\n",
       " [datetime.datetime(2022, 3, 7, 14, 17, 24), 185.95, 14088100],\n",
       " [datetime.datetime(2022, 3, 7, 14, 17, 24), 186.7, 14088500],\n",
       " [datetime.datetime(2022, 3, 7, 14, 17, 26), 187.2, 14090650],\n",
       " [datetime.datetime(2022, 3, 7, 14, 17, 27), 188.3, 14090650],\n",
       " [datetime.datetime(2022, 3, 7, 14, 17, 27), 188.35, 14093300],\n",
       " [datetime.datetime(2022, 3, 7, 14, 17, 28), 188.2, 14095850],\n",
       " [datetime.datetime(2022, 3, 7, 14, 17, 29), 188.4, 14095850],\n",
       " [datetime.datetime(2022, 3, 7, 14, 17, 29), 189.2, 14097050],\n",
       " [datetime.datetime(2022, 3, 7, 14, 17, 30), 188.7, 14097500],\n",
       " [datetime.datetime(2022, 3, 7, 14, 17, 31), 188.8, 14097500],\n",
       " [datetime.datetime(2022, 3, 7, 14, 17, 32), 188.6, 14100550],\n",
       " [datetime.datetime(2022, 3, 7, 14, 17, 33), 189.6, 14100800],\n",
       " [datetime.datetime(2022, 3, 7, 14, 17, 33), 188.9, 14104550],\n",
       " [datetime.datetime(2022, 3, 7, 14, 17, 34), 187.6, 14104800],\n",
       " [datetime.datetime(2022, 3, 7, 14, 17, 34), 188.1, 14104800],\n",
       " [datetime.datetime(2022, 3, 7, 14, 17, 35), 188.75, 14106200],\n",
       " [datetime.datetime(2022, 3, 7, 14, 17, 36), 188.65, 14106250],\n",
       " [datetime.datetime(2022, 3, 7, 14, 17, 36), 187.65, 14108050],\n",
       " [datetime.datetime(2022, 3, 7, 14, 17, 37), 188.95, 14108050],\n",
       " [datetime.datetime(2022, 3, 7, 14, 17, 37), 187.65, 14108050],\n",
       " [datetime.datetime(2022, 3, 7, 14, 17, 38), 186.8, 14110650],\n",
       " [datetime.datetime(2022, 3, 7, 14, 17, 39), 186.65, 14110800],\n",
       " [datetime.datetime(2022, 3, 7, 14, 17, 39), 185.85, 14111100],\n",
       " [datetime.datetime(2022, 3, 7, 14, 17, 40), 185.35, 14111450],\n",
       " [datetime.datetime(2022, 3, 7, 14, 17, 41), 185.9, 14112100],\n",
       " [datetime.datetime(2022, 3, 7, 14, 17, 44), 186.05, 14112450],\n",
       " [datetime.datetime(2022, 3, 7, 14, 17, 44), 186.25, 14113150],\n",
       " [datetime.datetime(2022, 3, 7, 14, 17, 45), 186.1, 14113500],\n",
       " [datetime.datetime(2022, 3, 7, 14, 17, 47), 186.6, 14113600],\n",
       " [datetime.datetime(2022, 3, 7, 14, 17, 47), 186.0, 14113950],\n",
       " [datetime.datetime(2022, 3, 7, 14, 17, 48), 187.0, 14115500],\n",
       " [datetime.datetime(2022, 3, 7, 14, 17, 49), 187.35, 14115550],\n",
       " [datetime.datetime(2022, 3, 7, 14, 17, 51), 187.0, 14115900],\n",
       " [datetime.datetime(2022, 3, 7, 14, 17, 52), 187.45, 14116300],\n",
       " [datetime.datetime(2022, 3, 7, 14, 17, 53), 187.3, 14116300],\n",
       " [datetime.datetime(2022, 3, 7, 14, 17, 54), 187.8, 14116600],\n",
       " [datetime.datetime(2022, 3, 7, 14, 17, 54), 188.0, 14116600],\n",
       " [datetime.datetime(2022, 3, 7, 14, 17, 55), 188.45, 14117200],\n",
       " [datetime.datetime(2022, 3, 7, 14, 17, 56), 188.4, 14117350],\n",
       " [datetime.datetime(2022, 3, 7, 14, 17, 58), 188.0, 14119600],\n",
       " [datetime.datetime(2022, 3, 7, 14, 17, 58), 188.0, 14119850],\n",
       " [datetime.datetime(2022, 3, 7, 14, 17, 59), 187.8, 14120300],\n",
       " [datetime.datetime(2022, 3, 7, 14, 18), 188.4, 14120400],\n",
       " [datetime.datetime(2022, 3, 7, 14, 18, 1), 188.85, 14121350],\n",
       " [datetime.datetime(2022, 3, 7, 14, 18, 2), 189.95, 14121350],\n",
       " [datetime.datetime(2022, 3, 7, 14, 18, 2), 189.85, 14123400],\n",
       " [datetime.datetime(2022, 3, 7, 14, 18, 3), 189.95, 14124450],\n",
       " [datetime.datetime(2022, 3, 7, 14, 18, 5), 191.5, 14126850],\n",
       " [datetime.datetime(2022, 3, 7, 14, 18, 5), 191.35, 14127000],\n",
       " [datetime.datetime(2022, 3, 7, 14, 18, 6), 191.85, 14129700],\n",
       " [datetime.datetime(2022, 3, 7, 14, 18, 7), 192.0, 14131350],\n",
       " [datetime.datetime(2022, 3, 7, 14, 18, 8), 192.35, 14132400],\n",
       " [datetime.datetime(2022, 3, 7, 14, 18, 9), 192.1, 14133200],\n",
       " [datetime.datetime(2022, 3, 7, 14, 18, 12), 190.95, 14134600],\n",
       " [datetime.datetime(2022, 3, 7, 14, 18, 12), 191.0, 14136400],\n",
       " [datetime.datetime(2022, 3, 7, 14, 18, 13), 191.65, 14136900],\n",
       " [datetime.datetime(2022, 3, 7, 14, 18, 14), 191.6, 14137600],\n",
       " [datetime.datetime(2022, 3, 7, 14, 18, 15), 191.25, 14137800],\n",
       " [datetime.datetime(2022, 3, 7, 14, 18, 17), 191.5, 14138600],\n",
       " [datetime.datetime(2022, 3, 7, 14, 18, 17), 191.5, 14138800],\n",
       " [datetime.datetime(2022, 3, 7, 14, 18, 19), 189.45, 14141800],\n",
       " [datetime.datetime(2022, 3, 7, 14, 18, 19), 188.85, 14143800],\n",
       " [datetime.datetime(2022, 3, 7, 14, 18, 20), 188.2, 14143800],\n",
       " [datetime.datetime(2022, 3, 7, 14, 18, 21), 188.0, 14144350],\n",
       " [datetime.datetime(2022, 3, 7, 14, 18, 22), 188.85, 14143800],\n",
       " [datetime.datetime(2022, 3, 7, 14, 18, 23), 189.3, 14146000],\n",
       " [datetime.datetime(2022, 3, 7, 14, 18, 23), 189.3, 14146150],\n",
       " [datetime.datetime(2022, 3, 7, 14, 18, 25), 188.35, 14146700],\n",
       " [datetime.datetime(2022, 3, 7, 14, 18, 26), 189.05, 14148350],\n",
       " [datetime.datetime(2022, 3, 7, 14, 18, 26), 189.05, 14148300],\n",
       " [datetime.datetime(2022, 3, 7, 14, 18, 27), 189.05, 14149050],\n",
       " [datetime.datetime(2022, 3, 7, 14, 18, 28), 189.0, 14150350],\n",
       " [datetime.datetime(2022, 3, 7, 14, 18, 28), 188.55, 14150850],\n",
       " [datetime.datetime(2022, 3, 7, 14, 18, 29), 188.15, 14150850],\n",
       " [datetime.datetime(2022, 3, 7, 14, 18, 29), 188.45, 14151150],\n",
       " [datetime.datetime(2022, 3, 7, 14, 18, 30), 188.7, 14151400],\n",
       " [datetime.datetime(2022, 3, 7, 14, 18, 33), 188.0, 14151450],\n",
       " [datetime.datetime(2022, 3, 7, 14, 18, 33), 187.55, 14152100],\n",
       " [datetime.datetime(2022, 3, 7, 14, 18, 34), 187.55, 14152150],\n",
       " [datetime.datetime(2022, 3, 7, 14, 18, 36), 187.25, 14152900],\n",
       " [datetime.datetime(2022, 3, 7, 14, 18, 36), 186.85, 14152900],\n",
       " [datetime.datetime(2022, 3, 7, 14, 18, 37), 187.95, 14153750],\n",
       " [datetime.datetime(2022, 3, 7, 14, 18, 38), 188.55, 14153800],\n",
       " [datetime.datetime(2022, 3, 7, 14, 18, 39), 188.95, 14154100],\n",
       " [datetime.datetime(2022, 3, 7, 14, 18, 40), 189.8, 14154850],\n",
       " [datetime.datetime(2022, 3, 7, 14, 18, 41), 190.15, 14155250],\n",
       " [datetime.datetime(2022, 3, 7, 14, 18, 42), 190.35, 14155500],\n",
       " [datetime.datetime(2022, 3, 7, 14, 18, 42), 190.85, 14155500],\n",
       " [datetime.datetime(2022, 3, 7, 14, 18, 43), 190.4, 14155750],\n",
       " [datetime.datetime(2022, 3, 7, 14, 18, 46), 190.45, 14157000],\n",
       " [datetime.datetime(2022, 3, 7, 14, 18, 47), 190.35, 14157000],\n",
       " [datetime.datetime(2022, 3, 7, 14, 18, 48), 190.35, 14157100],\n",
       " [datetime.datetime(2022, 3, 7, 14, 18, 48), 190.45, 14157000],\n",
       " [datetime.datetime(2022, 3, 7, 14, 18, 49), 191.75, 14157000],\n",
       " [datetime.datetime(2022, 3, 7, 14, 18, 50), 190.35, 14158150],\n",
       " [datetime.datetime(2022, 3, 7, 14, 18, 50), 190.75, 14158500],\n",
       " [datetime.datetime(2022, 3, 7, 14, 18, 52), 191.15, 14158500],\n",
       " [datetime.datetime(2022, 3, 7, 14, 18, 53), 190.0, 14159350],\n",
       " [datetime.datetime(2022, 3, 7, 14, 18, 53), 189.8, 14159350],\n",
       " [datetime.datetime(2022, 3, 7, 14, 18, 54), 189.8, 14161650],\n",
       " [datetime.datetime(2022, 3, 7, 14, 18, 55), 189.55, 14162100],\n",
       " [datetime.datetime(2022, 3, 7, 14, 18, 56), 189.9, 14162100],\n",
       " [datetime.datetime(2022, 3, 7, 14, 18, 56), 189.25, 14162700],\n",
       " [datetime.datetime(2022, 3, 7, 14, 18, 57), 189.55, 14162950],\n",
       " [datetime.datetime(2022, 3, 7, 14, 18, 59), 189.1, 14163500],\n",
       " [datetime.datetime(2022, 3, 7, 14, 19), 188.9, 14163500],\n",
       " [datetime.datetime(2022, 3, 7, 14, 19), 188.9, 14164400],\n",
       " [datetime.datetime(2022, 3, 7, 14, 19, 1), 188.65, 14164400],\n",
       " [datetime.datetime(2022, 3, 7, 14, 19, 1), 189.2, 14164950],\n",
       " [datetime.datetime(2022, 3, 7, 14, 19, 3), 190.45, 14164950],\n",
       " [datetime.datetime(2022, 3, 7, 14, 19, 4), 190.9, 14165450],\n",
       " [datetime.datetime(2022, 3, 7, 14, 19, 4), 190.25, 14165450],\n",
       " [datetime.datetime(2022, 3, 7, 14, 19, 4), 190.25, 14166600],\n",
       " [datetime.datetime(2022, 3, 7, 14, 19, 6), 191.05, 14167150],\n",
       " [datetime.datetime(2022, 3, 7, 14, 19, 7), 191.7, 14167250],\n",
       " [datetime.datetime(2022, 3, 7, 14, 19, 8), 191.35, 14167350],\n",
       " [datetime.datetime(2022, 3, 7, 14, 19, 9), 190.95, 14168150],\n",
       " [datetime.datetime(2022, 3, 7, 14, 19, 10), 191.0, 14168450],\n",
       " [datetime.datetime(2022, 3, 7, 14, 19, 11), 191.05, 14168450],\n",
       " [datetime.datetime(2022, 3, 7, 14, 19, 12), 191.05, 14168500],\n",
       " [datetime.datetime(2022, 3, 7, 14, 19, 13), 190.65, 14168600],\n",
       " [datetime.datetime(2022, 3, 7, 14, 19, 14), 191.55, 14169050],\n",
       " [datetime.datetime(2022, 3, 7, 14, 19, 14), 191.6, 14168950],\n",
       " [datetime.datetime(2022, 3, 7, 14, 19, 15), 191.05, 14169600],\n",
       " [datetime.datetime(2022, 3, 7, 14, 19, 16), 192.1, 14170250],\n",
       " [datetime.datetime(2022, 3, 7, 14, 19, 16), 191.75, 14170300],\n",
       " [datetime.datetime(2022, 3, 7, 14, 19, 17), 191.75, 14170350],\n",
       " [datetime.datetime(2022, 3, 7, 14, 19, 18), 192.3, 14170800],\n",
       " [datetime.datetime(2022, 3, 7, 14, 19, 18), 191.55, 14170800],\n",
       " [datetime.datetime(2022, 3, 7, 14, 19, 19), 192.0, 14170950],\n",
       " [datetime.datetime(2022, 3, 7, 14, 19, 21), 191.95, 14171250],\n",
       " [datetime.datetime(2022, 3, 7, 14, 19, 21), 192.0, 14171250],\n",
       " [datetime.datetime(2022, 3, 7, 14, 19, 22), 191.9, 14171400],\n",
       " [datetime.datetime(2022, 3, 7, 14, 19, 22), 191.6, 14171400],\n",
       " [datetime.datetime(2022, 3, 7, 14, 19, 23), 192.15, 14172250],\n",
       " [datetime.datetime(2022, 3, 7, 14, 19, 24), 191.9, 14172250],\n",
       " [datetime.datetime(2022, 3, 7, 14, 19, 24), 191.2, 14172500],\n",
       " [datetime.datetime(2022, 3, 7, 14, 19, 25), 191.75, 14172550],\n",
       " [datetime.datetime(2022, 3, 7, 14, 19, 25), 191.7, 14173150],\n",
       " [datetime.datetime(2022, 3, 7, 14, 19, 27), 191.35, 14173450],\n",
       " [datetime.datetime(2022, 3, 7, 14, 19, 27), 191.35, 14173500],\n",
       " [datetime.datetime(2022, 3, 7, 14, 19, 29), 191.4, 14174450],\n",
       " [datetime.datetime(2022, 3, 7, 14, 19, 30), 190.75, 14175650],\n",
       " [datetime.datetime(2022, 3, 7, 14, 19, 30), 190.15, 14175450],\n",
       " [datetime.datetime(2022, 3, 7, 14, 19, 31), 189.85, 14176600],\n",
       " [datetime.datetime(2022, 3, 7, 14, 19, 31), 190.2, 14176600],\n",
       " [datetime.datetime(2022, 3, 7, 14, 19, 32), 189.85, 14176900],\n",
       " [datetime.datetime(2022, 3, 7, 14, 19, 32), 189.9, 14176950],\n",
       " [datetime.datetime(2022, 3, 7, 14, 19, 33), 190.95, 14178400],\n",
       " [datetime.datetime(2022, 3, 7, 14, 19, 34), 191.35, 14178400],\n",
       " [datetime.datetime(2022, 3, 7, 14, 19, 35), 191.7, 14179000],\n",
       " [datetime.datetime(2022, 3, 7, 14, 19, 36), 191.55, 14179000],\n",
       " [datetime.datetime(2022, 3, 7, 14, 19, 37), 192.0, 14179900],\n",
       " [datetime.datetime(2022, 3, 7, 14, 19, 38), 192.55, 14181700],\n",
       " [datetime.datetime(2022, 3, 7, 14, 19, 39), 192.6, 14181750],\n",
       " [datetime.datetime(2022, 3, 7, 14, 19, 39), 191.9, 14182000],\n",
       " [datetime.datetime(2022, 3, 7, 14, 19, 40), 192.55, 14181850],\n",
       " [datetime.datetime(2022, 3, 7, 14, 19, 40), 192.3, 14182100],\n",
       " [datetime.datetime(2022, 3, 7, 14, 19, 42), 192.2, 14182200],\n",
       " [datetime.datetime(2022, 3, 7, 14, 19, 42), 192.0, 14182300],\n",
       " [datetime.datetime(2022, 3, 7, 14, 19, 44), 192.55, 14182300],\n",
       " [datetime.datetime(2022, 3, 7, 14, 19, 45), 192.5, 14183350],\n",
       " [datetime.datetime(2022, 3, 7, 14, 19, 46), 192.45, 14185050],\n",
       " [datetime.datetime(2022, 3, 7, 14, 19, 46), 192.7, 14185050],\n",
       " [datetime.datetime(2022, 3, 7, 14, 19, 47), 192.7, 14185500],\n",
       " [datetime.datetime(2022, 3, 7, 14, 19, 48), 193.0, 14185600],\n",
       " [datetime.datetime(2022, 3, 7, 14, 19, 48), 193.4, 14185700],\n",
       " [datetime.datetime(2022, 3, 7, 14, 19, 50), 193.95, 14186950],\n",
       " [datetime.datetime(2022, 3, 7, 14, 19, 52), 194.0, 14190550],\n",
       " [datetime.datetime(2022, 3, 7, 14, 19, 53), 193.95, 14191350],\n",
       " [datetime.datetime(2022, 3, 7, 14, 19, 53), 194.25, 14190550],\n",
       " [datetime.datetime(2022, 3, 7, 14, 19, 54), 194.25, 14191050],\n",
       " [datetime.datetime(2022, 3, 7, 14, 19, 54), 194.25, 14191400],\n",
       " [datetime.datetime(2022, 3, 7, 14, 19, 55), 194.0, 14191750],\n",
       " [datetime.datetime(2022, 3, 7, 14, 19, 56), 193.8, 14192100],\n",
       " [datetime.datetime(2022, 3, 7, 14, 19, 56), 194.45, 14192200],\n",
       " [datetime.datetime(2022, 3, 7, 14, 19, 57), 193.5, 14192550],\n",
       " [datetime.datetime(2022, 3, 7, 14, 19, 58), 193.5, 14192700],\n",
       " [datetime.datetime(2022, 3, 7, 14, 19, 59), 194.0, 14192700],\n",
       " [datetime.datetime(2022, 3, 7, 14, 19, 59), 193.35, 14192700],\n",
       " [datetime.datetime(2022, 3, 7, 14, 20), 193.35, 14192800],\n",
       " [datetime.datetime(2022, 3, 7, 14, 20, 2), 193.35, 14193000],\n",
       " [datetime.datetime(2022, 3, 7, 14, 20, 3), 192.5, 14195400],\n",
       " [datetime.datetime(2022, 3, 7, 14, 20, 3), 192.15, 14195550],\n",
       " [datetime.datetime(2022, 3, 7, 14, 20, 5), 191.85, 14196000],\n",
       " [datetime.datetime(2022, 3, 7, 14, 20, 5), 190.8, 14196000],\n",
       " [datetime.datetime(2022, 3, 7, 14, 20, 5), 190.8, 14197600],\n",
       " [datetime.datetime(2022, 3, 7, 14, 20, 6), 191.75, 14198250],\n",
       " [datetime.datetime(2022, 3, 7, 14, 20, 7), 191.95, 14198650],\n",
       " [datetime.datetime(2022, 3, 7, 14, 20, 7), 191.3, 14198850],\n",
       " [datetime.datetime(2022, 3, 7, 14, 20, 9), 191.15, 14198850],\n",
       " [datetime.datetime(2022, 3, 7, 14, 20, 10), 191.3, 14199050],\n",
       " [datetime.datetime(2022, 3, 7, 14, 20, 10), 191.15, 14199400],\n",
       " [datetime.datetime(2022, 3, 7, 14, 20, 11), 189.75, 14199400],\n",
       " [datetime.datetime(2022, 3, 7, 14, 20, 12), 189.4, 14200850],\n",
       " [datetime.datetime(2022, 3, 7, 14, 20, 12), 189.4, 14200750],\n",
       " [datetime.datetime(2022, 3, 7, 14, 20, 14), 190.8, 14202400],\n",
       " [datetime.datetime(2022, 3, 7, 14, 20, 15), 190.85, 14202450],\n",
       " [datetime.datetime(2022, 3, 7, 14, 20, 16), 190.75, 14202450],\n",
       " [datetime.datetime(2022, 3, 7, 14, 20, 16), 190.75, 14202550],\n",
       " [datetime.datetime(2022, 3, 7, 14, 20, 18), 191.35, 14203250],\n",
       " [datetime.datetime(2022, 3, 7, 14, 20, 19), 190.9, 14204750],\n",
       " [datetime.datetime(2022, 3, 7, 14, 20, 21), 191.35, 14205900],\n",
       " [datetime.datetime(2022, 3, 7, 14, 20, 21), 192.5, 14205900],\n",
       " [datetime.datetime(2022, 3, 7, 14, 20, 22), 192.5, 14206300],\n",
       " [datetime.datetime(2022, 3, 7, 14, 20, 23), 192.5, 14206550],\n",
       " [datetime.datetime(2022, 3, 7, 14, 20, 24), 192.85, 14206550],\n",
       " [datetime.datetime(2022, 3, 7, 14, 20, 25), 192.85, 14207250],\n",
       " [datetime.datetime(2022, 3, 7, 14, 20, 27), 193.35, 14208050],\n",
       " [datetime.datetime(2022, 3, 7, 14, 20, 28), 194.3, 14208250],\n",
       " [datetime.datetime(2022, 3, 7, 14, 20, 29), 194.5, 14208250],\n",
       " [datetime.datetime(2022, 3, 7, 14, 20, 29), 194.5, 14209050],\n",
       " [datetime.datetime(2022, 3, 7, 14, 20, 32), 194.8, 14210150],\n",
       " [datetime.datetime(2022, 3, 7, 14, 20, 32), 194.4, 14210150],\n",
       " [datetime.datetime(2022, 3, 7, 14, 20, 33), 194.4, 14210350]]"
      ]
     },
     "execution_count": 6,
     "metadata": {},
     "output_type": "execute_result"
    }
   ],
   "source": [
    "ticker.ticker_dict[18419458]"
   ]
  },
  {
   "cell_type": "code",
   "execution_count": 14,
   "metadata": {},
   "outputs": [
    {
     "data": {
      "text/html": [
       "<div>\n",
       "<style scoped>\n",
       "    .dataframe tbody tr th:only-of-type {\n",
       "        vertical-align: middle;\n",
       "    }\n",
       "\n",
       "    .dataframe tbody tr th {\n",
       "        vertical-align: top;\n",
       "    }\n",
       "\n",
       "    .dataframe thead th {\n",
       "        text-align: right;\n",
       "    }\n",
       "</style>\n",
       "<table border=\"1\" class=\"dataframe\">\n",
       "  <thead>\n",
       "    <tr style=\"text-align: right;\">\n",
       "      <th></th>\n",
       "      <th>ts</th>\n",
       "      <th>ltp</th>\n",
       "      <th>abs_volume</th>\n",
       "    </tr>\n",
       "  </thead>\n",
       "  <tbody>\n",
       "    <tr>\n",
       "      <th>0</th>\n",
       "      <td>2022-03-07 14:43:50</td>\n",
       "      <td>229.35</td>\n",
       "      <td>15444450</td>\n",
       "    </tr>\n",
       "    <tr>\n",
       "      <th>1</th>\n",
       "      <td>2022-03-07 14:43:52</td>\n",
       "      <td>229.10</td>\n",
       "      <td>15444450</td>\n",
       "    </tr>\n",
       "    <tr>\n",
       "      <th>2</th>\n",
       "      <td>2022-03-07 14:43:52</td>\n",
       "      <td>228.30</td>\n",
       "      <td>15447550</td>\n",
       "    </tr>\n",
       "    <tr>\n",
       "      <th>3</th>\n",
       "      <td>2022-03-07 14:43:53</td>\n",
       "      <td>228.20</td>\n",
       "      <td>15447550</td>\n",
       "    </tr>\n",
       "    <tr>\n",
       "      <th>4</th>\n",
       "      <td>2022-03-07 14:43:53</td>\n",
       "      <td>228.55</td>\n",
       "      <td>15447700</td>\n",
       "    </tr>\n",
       "    <tr>\n",
       "      <th>...</th>\n",
       "      <td>...</td>\n",
       "      <td>...</td>\n",
       "      <td>...</td>\n",
       "    </tr>\n",
       "    <tr>\n",
       "      <th>3179</th>\n",
       "      <td>2022-03-07 15:29:57</td>\n",
       "      <td>236.90</td>\n",
       "      <td>18527500</td>\n",
       "    </tr>\n",
       "    <tr>\n",
       "      <th>3180</th>\n",
       "      <td>2022-03-07 15:29:58</td>\n",
       "      <td>232.40</td>\n",
       "      <td>18528100</td>\n",
       "    </tr>\n",
       "    <tr>\n",
       "      <th>3181</th>\n",
       "      <td>2022-03-07 15:29:58</td>\n",
       "      <td>232.45</td>\n",
       "      <td>18528100</td>\n",
       "    </tr>\n",
       "    <tr>\n",
       "      <th>3182</th>\n",
       "      <td>2022-03-07 15:29:59</td>\n",
       "      <td>237.80</td>\n",
       "      <td>18528400</td>\n",
       "    </tr>\n",
       "    <tr>\n",
       "      <th>3183</th>\n",
       "      <td>2022-03-07 15:30:01</td>\n",
       "      <td>237.80</td>\n",
       "      <td>18528450</td>\n",
       "    </tr>\n",
       "  </tbody>\n",
       "</table>\n",
       "<p>3184 rows × 3 columns</p>\n",
       "</div>"
      ],
      "text/plain": [
       "                      ts     ltp  abs_volume\n",
       "0    2022-03-07 14:43:50  229.35    15444450\n",
       "1    2022-03-07 14:43:52  229.10    15444450\n",
       "2    2022-03-07 14:43:52  228.30    15447550\n",
       "3    2022-03-07 14:43:53  228.20    15447550\n",
       "4    2022-03-07 14:43:53  228.55    15447700\n",
       "...                  ...     ...         ...\n",
       "3179 2022-03-07 15:29:57  236.90    18527500\n",
       "3180 2022-03-07 15:29:58  232.40    18528100\n",
       "3181 2022-03-07 15:29:58  232.45    18528100\n",
       "3182 2022-03-07 15:29:59  237.80    18528400\n",
       "3183 2022-03-07 15:30:01  237.80    18528450\n",
       "\n",
       "[3184 rows x 3 columns]"
      ]
     },
     "execution_count": 14,
     "metadata": {},
     "output_type": "execute_result"
    }
   ],
   "source": [
    "import pandas as pd\n",
    "df = pd.DataFrame(ticker.ticker_dict[18419458], columns=['ts','ltp', 'abs_volume'])\n",
    "df"
   ]
  },
  {
   "cell_type": "code",
   "execution_count": 15,
   "metadata": {},
   "outputs": [
    {
     "data": {
      "text/plain": [
       "(3184, 3)"
      ]
     },
     "execution_count": 15,
     "metadata": {},
     "output_type": "execute_result"
    }
   ],
   "source": [
    "df.shape"
   ]
  },
  {
   "cell_type": "code",
   "execution_count": 24,
   "metadata": {},
   "outputs": [
    {
     "data": {
      "text/html": [
       "<div>\n",
       "<style scoped>\n",
       "    .dataframe tbody tr th:only-of-type {\n",
       "        vertical-align: middle;\n",
       "    }\n",
       "\n",
       "    .dataframe tbody tr th {\n",
       "        vertical-align: top;\n",
       "    }\n",
       "\n",
       "    .dataframe thead th {\n",
       "        text-align: right;\n",
       "    }\n",
       "</style>\n",
       "<table border=\"1\" class=\"dataframe\">\n",
       "  <thead>\n",
       "    <tr style=\"text-align: right;\">\n",
       "      <th></th>\n",
       "      <th>ts</th>\n",
       "      <th>ltp</th>\n",
       "      <th>abs_volume</th>\n",
       "    </tr>\n",
       "  </thead>\n",
       "  <tbody>\n",
       "    <tr>\n",
       "      <th>0</th>\n",
       "      <td>2022-03-07 14:13:03.000000</td>\n",
       "      <td>192.30</td>\n",
       "      <td>13771600</td>\n",
       "    </tr>\n",
       "    <tr>\n",
       "      <th>1</th>\n",
       "      <td>2022-03-07 14:13:03.000001</td>\n",
       "      <td>191.40</td>\n",
       "      <td>13771700</td>\n",
       "    </tr>\n",
       "    <tr>\n",
       "      <th>2</th>\n",
       "      <td>2022-03-07 14:13:04.000002</td>\n",
       "      <td>191.35</td>\n",
       "      <td>13771700</td>\n",
       "    </tr>\n",
       "    <tr>\n",
       "      <th>3</th>\n",
       "      <td>2022-03-07 14:13:04.000003</td>\n",
       "      <td>191.55</td>\n",
       "      <td>13772850</td>\n",
       "    </tr>\n",
       "    <tr>\n",
       "      <th>4</th>\n",
       "      <td>2022-03-07 14:13:05.000004</td>\n",
       "      <td>190.05</td>\n",
       "      <td>13779500</td>\n",
       "    </tr>\n",
       "    <tr>\n",
       "      <th>...</th>\n",
       "      <td>...</td>\n",
       "      <td>...</td>\n",
       "      <td>...</td>\n",
       "    </tr>\n",
       "    <tr>\n",
       "      <th>1762</th>\n",
       "      <td>2022-03-07 14:39:03.001762</td>\n",
       "      <td>225.90</td>\n",
       "      <td>15171800</td>\n",
       "    </tr>\n",
       "    <tr>\n",
       "      <th>1763</th>\n",
       "      <td>2022-03-07 14:39:04.001763</td>\n",
       "      <td>226.05</td>\n",
       "      <td>15171900</td>\n",
       "    </tr>\n",
       "    <tr>\n",
       "      <th>1764</th>\n",
       "      <td>2022-03-07 14:39:05.001764</td>\n",
       "      <td>227.00</td>\n",
       "      <td>15172500</td>\n",
       "    </tr>\n",
       "    <tr>\n",
       "      <th>1765</th>\n",
       "      <td>2022-03-07 14:39:05.001765</td>\n",
       "      <td>226.75</td>\n",
       "      <td>15173600</td>\n",
       "    </tr>\n",
       "    <tr>\n",
       "      <th>1766</th>\n",
       "      <td>2022-03-07 14:39:06.001766</td>\n",
       "      <td>227.20</td>\n",
       "      <td>15173650</td>\n",
       "    </tr>\n",
       "  </tbody>\n",
       "</table>\n",
       "<p>1767 rows × 3 columns</p>\n",
       "</div>"
      ],
      "text/plain": [
       "                             ts     ltp  abs_volume\n",
       "0    2022-03-07 14:13:03.000000  192.30    13771600\n",
       "1    2022-03-07 14:13:03.000001  191.40    13771700\n",
       "2    2022-03-07 14:13:04.000002  191.35    13771700\n",
       "3    2022-03-07 14:13:04.000003  191.55    13772850\n",
       "4    2022-03-07 14:13:05.000004  190.05    13779500\n",
       "...                         ...     ...         ...\n",
       "1762 2022-03-07 14:39:03.001762  225.90    15171800\n",
       "1763 2022-03-07 14:39:04.001763  226.05    15171900\n",
       "1764 2022-03-07 14:39:05.001764  227.00    15172500\n",
       "1765 2022-03-07 14:39:05.001765  226.75    15173600\n",
       "1766 2022-03-07 14:39:06.001766  227.20    15173650\n",
       "\n",
       "[1767 rows x 3 columns]"
      ]
     },
     "execution_count": 24,
     "metadata": {},
     "output_type": "execute_result"
    }
   ],
   "source": [
    "df['ts'] = df['ts'] + pd.to_timedelta(df.index,'us')\n",
    "df"
   ]
  },
  {
   "cell_type": "code",
   "execution_count": 13,
   "metadata": {},
   "outputs": [
    {
     "data": {
      "text/html": [
       "<div>\n",
       "<style scoped>\n",
       "    .dataframe tbody tr th:only-of-type {\n",
       "        vertical-align: middle;\n",
       "    }\n",
       "\n",
       "    .dataframe tbody tr th {\n",
       "        vertical-align: top;\n",
       "    }\n",
       "\n",
       "    .dataframe thead th {\n",
       "        text-align: right;\n",
       "    }\n",
       "</style>\n",
       "<table border=\"1\" class=\"dataframe\">\n",
       "  <thead>\n",
       "    <tr style=\"text-align: right;\">\n",
       "      <th></th>\n",
       "      <th>open</th>\n",
       "      <th>high</th>\n",
       "      <th>low</th>\n",
       "      <th>close</th>\n",
       "      <th>vol</th>\n",
       "      <th>volume</th>\n",
       "    </tr>\n",
       "    <tr>\n",
       "      <th>ts</th>\n",
       "      <th></th>\n",
       "      <th></th>\n",
       "      <th></th>\n",
       "      <th></th>\n",
       "      <th></th>\n",
       "      <th></th>\n",
       "    </tr>\n",
       "  </thead>\n",
       "  <tbody>\n",
       "    <tr>\n",
       "      <th>2022-03-07 14:40:00</th>\n",
       "      <td>229.35</td>\n",
       "      <td>236.75</td>\n",
       "      <td>228.20</td>\n",
       "      <td>235.40</td>\n",
       "      <td>15541500</td>\n",
       "      <td>NaN</td>\n",
       "    </tr>\n",
       "    <tr>\n",
       "      <th>2022-03-07 14:45:00</th>\n",
       "      <td>236.30</td>\n",
       "      <td>241.00</td>\n",
       "      <td>227.90</td>\n",
       "      <td>231.85</td>\n",
       "      <td>15902650</td>\n",
       "      <td>361150.0</td>\n",
       "    </tr>\n",
       "    <tr>\n",
       "      <th>2022-03-07 14:50:00</th>\n",
       "      <td>231.25</td>\n",
       "      <td>253.75</td>\n",
       "      <td>231.20</td>\n",
       "      <td>247.40</td>\n",
       "      <td>16363550</td>\n",
       "      <td>460900.0</td>\n",
       "    </tr>\n",
       "    <tr>\n",
       "      <th>2022-03-07 14:55:00</th>\n",
       "      <td>247.45</td>\n",
       "      <td>252.00</td>\n",
       "      <td>231.90</td>\n",
       "      <td>236.20</td>\n",
       "      <td>16672300</td>\n",
       "      <td>308750.0</td>\n",
       "    </tr>\n",
       "    <tr>\n",
       "      <th>2022-03-07 15:00:00</th>\n",
       "      <td>236.90</td>\n",
       "      <td>245.00</td>\n",
       "      <td>210.75</td>\n",
       "      <td>223.75</td>\n",
       "      <td>17078650</td>\n",
       "      <td>406350.0</td>\n",
       "    </tr>\n",
       "    <tr>\n",
       "      <th>2022-03-07 15:05:00</th>\n",
       "      <td>223.90</td>\n",
       "      <td>239.05</td>\n",
       "      <td>223.40</td>\n",
       "      <td>232.70</td>\n",
       "      <td>17369600</td>\n",
       "      <td>290950.0</td>\n",
       "    </tr>\n",
       "    <tr>\n",
       "      <th>2022-03-07 15:10:00</th>\n",
       "      <td>232.50</td>\n",
       "      <td>249.75</td>\n",
       "      <td>230.70</td>\n",
       "      <td>246.50</td>\n",
       "      <td>17755350</td>\n",
       "      <td>385750.0</td>\n",
       "    </tr>\n",
       "    <tr>\n",
       "      <th>2022-03-07 15:15:00</th>\n",
       "      <td>245.55</td>\n",
       "      <td>249.35</td>\n",
       "      <td>233.00</td>\n",
       "      <td>249.00</td>\n",
       "      <td>18102550</td>\n",
       "      <td>347200.0</td>\n",
       "    </tr>\n",
       "    <tr>\n",
       "      <th>2022-03-07 15:20:00</th>\n",
       "      <td>248.00</td>\n",
       "      <td>248.40</td>\n",
       "      <td>242.45</td>\n",
       "      <td>245.25</td>\n",
       "      <td>18311550</td>\n",
       "      <td>209000.0</td>\n",
       "    </tr>\n",
       "    <tr>\n",
       "      <th>2022-03-07 15:25:00</th>\n",
       "      <td>245.20</td>\n",
       "      <td>245.30</td>\n",
       "      <td>232.25</td>\n",
       "      <td>237.80</td>\n",
       "      <td>18528400</td>\n",
       "      <td>216850.0</td>\n",
       "    </tr>\n",
       "    <tr>\n",
       "      <th>2022-03-07 15:30:00</th>\n",
       "      <td>237.80</td>\n",
       "      <td>237.80</td>\n",
       "      <td>237.80</td>\n",
       "      <td>237.80</td>\n",
       "      <td>18528450</td>\n",
       "      <td>50.0</td>\n",
       "    </tr>\n",
       "  </tbody>\n",
       "</table>\n",
       "</div>"
      ],
      "text/plain": [
       "                       open    high     low   close       vol    volume\n",
       "ts                                                                     \n",
       "2022-03-07 14:40:00  229.35  236.75  228.20  235.40  15541500       NaN\n",
       "2022-03-07 14:45:00  236.30  241.00  227.90  231.85  15902650  361150.0\n",
       "2022-03-07 14:50:00  231.25  253.75  231.20  247.40  16363550  460900.0\n",
       "2022-03-07 14:55:00  247.45  252.00  231.90  236.20  16672300  308750.0\n",
       "2022-03-07 15:00:00  236.90  245.00  210.75  223.75  17078650  406350.0\n",
       "2022-03-07 15:05:00  223.90  239.05  223.40  232.70  17369600  290950.0\n",
       "2022-03-07 15:10:00  232.50  249.75  230.70  246.50  17755350  385750.0\n",
       "2022-03-07 15:15:00  245.55  249.35  233.00  249.00  18102550  347200.0\n",
       "2022-03-07 15:20:00  248.00  248.40  242.45  245.25  18311550  209000.0\n",
       "2022-03-07 15:25:00  245.20  245.30  232.25  237.80  18528400  216850.0\n",
       "2022-03-07 15:30:00  237.80  237.80  237.80  237.80  18528450      50.0"
      ]
     },
     "execution_count": 13,
     "metadata": {},
     "output_type": "execute_result"
    }
   ],
   "source": [
    "df = pd.DataFrame(ticker.ticker_dict[18419458], columns=['ts','ltp', 'abs_volume'])\n",
    "df['ts'] = df['ts'] + pd.to_timedelta(df.index,'us')\n",
    "data = df.copy()\n",
    "data = data.set_index(['ts'])\n",
    "data.index = pd.to_datetime(data.index)\n",
    "ticks = data.loc[:, ['ltp']]   \n",
    "dff=ticks['ltp'].resample('5min').ohlc()\n",
    "dff['vol'] = data['abs_volume'].resample('5min').max().dropna()\n",
    "dff['volume'] = dff.vol.diff()\n",
    "dff"
   ]
  },
  {
   "cell_type": "code",
   "execution_count": 26,
   "metadata": {},
   "outputs": [
    {
     "data": {
      "text/html": [
       "<div>\n",
       "<style scoped>\n",
       "    .dataframe tbody tr th:only-of-type {\n",
       "        vertical-align: middle;\n",
       "    }\n",
       "\n",
       "    .dataframe tbody tr th {\n",
       "        vertical-align: top;\n",
       "    }\n",
       "\n",
       "    .dataframe thead th {\n",
       "        text-align: right;\n",
       "    }\n",
       "</style>\n",
       "<table border=\"1\" class=\"dataframe\">\n",
       "  <thead>\n",
       "    <tr style=\"text-align: right;\">\n",
       "      <th></th>\n",
       "      <th>open</th>\n",
       "      <th>high</th>\n",
       "      <th>low</th>\n",
       "      <th>close</th>\n",
       "      <th>vol</th>\n",
       "      <th>volume</th>\n",
       "    </tr>\n",
       "    <tr>\n",
       "      <th>ts</th>\n",
       "      <th></th>\n",
       "      <th></th>\n",
       "      <th></th>\n",
       "      <th></th>\n",
       "      <th></th>\n",
       "      <th></th>\n",
       "    </tr>\n",
       "  </thead>\n",
       "  <tbody>\n",
       "    <tr>\n",
       "      <th>2022-03-07 14:13:00</th>\n",
       "      <td>192.30</td>\n",
       "      <td>196.45</td>\n",
       "      <td>189.25</td>\n",
       "      <td>196.45</td>\n",
       "      <td>13834650</td>\n",
       "      <td>NaN</td>\n",
       "    </tr>\n",
       "    <tr>\n",
       "      <th>2022-03-07 14:14:00</th>\n",
       "      <td>195.00</td>\n",
       "      <td>195.80</td>\n",
       "      <td>192.85</td>\n",
       "      <td>193.15</td>\n",
       "      <td>13888500</td>\n",
       "      <td>53850.0</td>\n",
       "    </tr>\n",
       "    <tr>\n",
       "      <th>2022-03-07 14:15:00</th>\n",
       "      <td>193.20</td>\n",
       "      <td>195.40</td>\n",
       "      <td>190.00</td>\n",
       "      <td>190.00</td>\n",
       "      <td>13935950</td>\n",
       "      <td>47450.0</td>\n",
       "    </tr>\n",
       "    <tr>\n",
       "      <th>2022-03-07 14:16:00</th>\n",
       "      <td>189.60</td>\n",
       "      <td>189.60</td>\n",
       "      <td>182.95</td>\n",
       "      <td>184.50</td>\n",
       "      <td>14035000</td>\n",
       "      <td>99050.0</td>\n",
       "    </tr>\n",
       "    <tr>\n",
       "      <th>2022-03-07 14:17:00</th>\n",
       "      <td>183.70</td>\n",
       "      <td>189.60</td>\n",
       "      <td>182.25</td>\n",
       "      <td>187.80</td>\n",
       "      <td>14120300</td>\n",
       "      <td>85300.0</td>\n",
       "    </tr>\n",
       "    <tr>\n",
       "      <th>2022-03-07 14:18:00</th>\n",
       "      <td>188.40</td>\n",
       "      <td>192.35</td>\n",
       "      <td>186.85</td>\n",
       "      <td>189.10</td>\n",
       "      <td>14163500</td>\n",
       "      <td>43200.0</td>\n",
       "    </tr>\n",
       "    <tr>\n",
       "      <th>2022-03-07 14:19:00</th>\n",
       "      <td>188.90</td>\n",
       "      <td>194.45</td>\n",
       "      <td>188.65</td>\n",
       "      <td>193.35</td>\n",
       "      <td>14192700</td>\n",
       "      <td>29200.0</td>\n",
       "    </tr>\n",
       "    <tr>\n",
       "      <th>2022-03-07 14:20:00</th>\n",
       "      <td>193.35</td>\n",
       "      <td>194.95</td>\n",
       "      <td>189.40</td>\n",
       "      <td>191.70</td>\n",
       "      <td>14223550</td>\n",
       "      <td>30850.0</td>\n",
       "    </tr>\n",
       "    <tr>\n",
       "      <th>2022-03-07 14:21:00</th>\n",
       "      <td>192.65</td>\n",
       "      <td>199.60</td>\n",
       "      <td>192.65</td>\n",
       "      <td>199.35</td>\n",
       "      <td>14259100</td>\n",
       "      <td>35550.0</td>\n",
       "    </tr>\n",
       "    <tr>\n",
       "      <th>2022-03-07 14:22:00</th>\n",
       "      <td>199.90</td>\n",
       "      <td>206.85</td>\n",
       "      <td>199.80</td>\n",
       "      <td>205.85</td>\n",
       "      <td>14330650</td>\n",
       "      <td>71550.0</td>\n",
       "    </tr>\n",
       "    <tr>\n",
       "      <th>2022-03-07 14:23:00</th>\n",
       "      <td>205.65</td>\n",
       "      <td>208.00</td>\n",
       "      <td>201.15</td>\n",
       "      <td>204.25</td>\n",
       "      <td>14375300</td>\n",
       "      <td>44650.0</td>\n",
       "    </tr>\n",
       "    <tr>\n",
       "      <th>2022-03-07 14:24:00</th>\n",
       "      <td>203.55</td>\n",
       "      <td>204.00</td>\n",
       "      <td>199.15</td>\n",
       "      <td>202.20</td>\n",
       "      <td>14399600</td>\n",
       "      <td>24300.0</td>\n",
       "    </tr>\n",
       "    <tr>\n",
       "      <th>2022-03-07 14:25:00</th>\n",
       "      <td>202.65</td>\n",
       "      <td>205.85</td>\n",
       "      <td>200.45</td>\n",
       "      <td>203.45</td>\n",
       "      <td>14421400</td>\n",
       "      <td>21800.0</td>\n",
       "    </tr>\n",
       "    <tr>\n",
       "      <th>2022-03-07 14:26:00</th>\n",
       "      <td>202.30</td>\n",
       "      <td>207.10</td>\n",
       "      <td>202.00</td>\n",
       "      <td>207.10</td>\n",
       "      <td>14444200</td>\n",
       "      <td>22800.0</td>\n",
       "    </tr>\n",
       "    <tr>\n",
       "      <th>2022-03-07 14:27:00</th>\n",
       "      <td>207.10</td>\n",
       "      <td>214.05</td>\n",
       "      <td>204.65</td>\n",
       "      <td>213.20</td>\n",
       "      <td>14483600</td>\n",
       "      <td>39400.0</td>\n",
       "    </tr>\n",
       "    <tr>\n",
       "      <th>2022-03-07 14:28:00</th>\n",
       "      <td>213.30</td>\n",
       "      <td>217.25</td>\n",
       "      <td>208.80</td>\n",
       "      <td>217.25</td>\n",
       "      <td>14525000</td>\n",
       "      <td>41400.0</td>\n",
       "    </tr>\n",
       "    <tr>\n",
       "      <th>2022-03-07 14:29:00</th>\n",
       "      <td>217.60</td>\n",
       "      <td>219.00</td>\n",
       "      <td>215.15</td>\n",
       "      <td>215.85</td>\n",
       "      <td>14581350</td>\n",
       "      <td>56350.0</td>\n",
       "    </tr>\n",
       "    <tr>\n",
       "      <th>2022-03-07 14:30:00</th>\n",
       "      <td>215.75</td>\n",
       "      <td>225.00</td>\n",
       "      <td>215.40</td>\n",
       "      <td>223.00</td>\n",
       "      <td>14670350</td>\n",
       "      <td>89000.0</td>\n",
       "    </tr>\n",
       "    <tr>\n",
       "      <th>2022-03-07 14:31:00</th>\n",
       "      <td>223.00</td>\n",
       "      <td>224.00</td>\n",
       "      <td>214.55</td>\n",
       "      <td>217.85</td>\n",
       "      <td>14726800</td>\n",
       "      <td>56450.0</td>\n",
       "    </tr>\n",
       "    <tr>\n",
       "      <th>2022-03-07 14:32:00</th>\n",
       "      <td>217.60</td>\n",
       "      <td>223.40</td>\n",
       "      <td>217.60</td>\n",
       "      <td>222.85</td>\n",
       "      <td>14761350</td>\n",
       "      <td>34550.0</td>\n",
       "    </tr>\n",
       "    <tr>\n",
       "      <th>2022-03-07 14:33:00</th>\n",
       "      <td>222.30</td>\n",
       "      <td>225.70</td>\n",
       "      <td>218.05</td>\n",
       "      <td>218.05</td>\n",
       "      <td>14831250</td>\n",
       "      <td>69900.0</td>\n",
       "    </tr>\n",
       "    <tr>\n",
       "      <th>2022-03-07 14:34:00</th>\n",
       "      <td>218.90</td>\n",
       "      <td>225.70</td>\n",
       "      <td>218.90</td>\n",
       "      <td>220.00</td>\n",
       "      <td>14884600</td>\n",
       "      <td>53350.0</td>\n",
       "    </tr>\n",
       "    <tr>\n",
       "      <th>2022-03-07 14:35:00</th>\n",
       "      <td>219.40</td>\n",
       "      <td>230.60</td>\n",
       "      <td>219.40</td>\n",
       "      <td>229.20</td>\n",
       "      <td>14959400</td>\n",
       "      <td>74800.0</td>\n",
       "    </tr>\n",
       "    <tr>\n",
       "      <th>2022-03-07 14:36:00</th>\n",
       "      <td>228.95</td>\n",
       "      <td>233.80</td>\n",
       "      <td>228.95</td>\n",
       "      <td>230.15</td>\n",
       "      <td>15044550</td>\n",
       "      <td>85150.0</td>\n",
       "    </tr>\n",
       "    <tr>\n",
       "      <th>2022-03-07 14:37:00</th>\n",
       "      <td>229.55</td>\n",
       "      <td>233.00</td>\n",
       "      <td>226.10</td>\n",
       "      <td>228.25</td>\n",
       "      <td>15097400</td>\n",
       "      <td>52850.0</td>\n",
       "    </tr>\n",
       "    <tr>\n",
       "      <th>2022-03-07 14:38:00</th>\n",
       "      <td>228.55</td>\n",
       "      <td>228.55</td>\n",
       "      <td>223.25</td>\n",
       "      <td>223.60</td>\n",
       "      <td>15169900</td>\n",
       "      <td>72500.0</td>\n",
       "    </tr>\n",
       "    <tr>\n",
       "      <th>2022-03-07 14:39:00</th>\n",
       "      <td>224.75</td>\n",
       "      <td>227.20</td>\n",
       "      <td>224.75</td>\n",
       "      <td>227.20</td>\n",
       "      <td>15173650</td>\n",
       "      <td>3750.0</td>\n",
       "    </tr>\n",
       "  </tbody>\n",
       "</table>\n",
       "</div>"
      ],
      "text/plain": [
       "                       open    high     low   close       vol   volume\n",
       "ts                                                                    \n",
       "2022-03-07 14:13:00  192.30  196.45  189.25  196.45  13834650      NaN\n",
       "2022-03-07 14:14:00  195.00  195.80  192.85  193.15  13888500  53850.0\n",
       "2022-03-07 14:15:00  193.20  195.40  190.00  190.00  13935950  47450.0\n",
       "2022-03-07 14:16:00  189.60  189.60  182.95  184.50  14035000  99050.0\n",
       "2022-03-07 14:17:00  183.70  189.60  182.25  187.80  14120300  85300.0\n",
       "2022-03-07 14:18:00  188.40  192.35  186.85  189.10  14163500  43200.0\n",
       "2022-03-07 14:19:00  188.90  194.45  188.65  193.35  14192700  29200.0\n",
       "2022-03-07 14:20:00  193.35  194.95  189.40  191.70  14223550  30850.0\n",
       "2022-03-07 14:21:00  192.65  199.60  192.65  199.35  14259100  35550.0\n",
       "2022-03-07 14:22:00  199.90  206.85  199.80  205.85  14330650  71550.0\n",
       "2022-03-07 14:23:00  205.65  208.00  201.15  204.25  14375300  44650.0\n",
       "2022-03-07 14:24:00  203.55  204.00  199.15  202.20  14399600  24300.0\n",
       "2022-03-07 14:25:00  202.65  205.85  200.45  203.45  14421400  21800.0\n",
       "2022-03-07 14:26:00  202.30  207.10  202.00  207.10  14444200  22800.0\n",
       "2022-03-07 14:27:00  207.10  214.05  204.65  213.20  14483600  39400.0\n",
       "2022-03-07 14:28:00  213.30  217.25  208.80  217.25  14525000  41400.0\n",
       "2022-03-07 14:29:00  217.60  219.00  215.15  215.85  14581350  56350.0\n",
       "2022-03-07 14:30:00  215.75  225.00  215.40  223.00  14670350  89000.0\n",
       "2022-03-07 14:31:00  223.00  224.00  214.55  217.85  14726800  56450.0\n",
       "2022-03-07 14:32:00  217.60  223.40  217.60  222.85  14761350  34550.0\n",
       "2022-03-07 14:33:00  222.30  225.70  218.05  218.05  14831250  69900.0\n",
       "2022-03-07 14:34:00  218.90  225.70  218.90  220.00  14884600  53350.0\n",
       "2022-03-07 14:35:00  219.40  230.60  219.40  229.20  14959400  74800.0\n",
       "2022-03-07 14:36:00  228.95  233.80  228.95  230.15  15044550  85150.0\n",
       "2022-03-07 14:37:00  229.55  233.00  226.10  228.25  15097400  52850.0\n",
       "2022-03-07 14:38:00  228.55  228.55  223.25  223.60  15169900  72500.0\n",
       "2022-03-07 14:39:00  224.75  227.20  224.75  227.20  15173650   3750.0"
      ]
     },
     "execution_count": 26,
     "metadata": {},
     "output_type": "execute_result"
    }
   ],
   "source": [
    "dff"
   ]
  },
  {
   "cell_type": "code",
   "execution_count": 18,
   "metadata": {},
   "outputs": [
    {
     "data": {
      "text/plain": [
       "'NIFTY2231015850CE'"
      ]
     },
     "execution_count": 18,
     "metadata": {},
     "output_type": "execute_result"
    }
   ],
   "source": [
    "kite_func.get_trading_symbol_from_token(18419458)"
   ]
  },
  {
   "cell_type": "code",
   "execution_count": 5,
   "metadata": {},
   "outputs": [],
   "source": [
    "placed_order_id = kite.place_order(tradingsymbol='ACC',\n",
    "                            exchange=kite.EXCHANGE_NSE,\n",
    "                            transaction_type=kite.TRANSACTION_TYPE_BUY,\n",
    "                            quantity=1,\n",
    "                            order_type=kite.ORDER_TYPE_LIMIT,\n",
    "                            price=2100,\n",
    "                            product=kite.PRODUCT_MIS,\n",
    "                            variety=kite.VARIETY_AMO)"
   ]
  },
  {
   "cell_type": "code",
   "execution_count": 6,
   "metadata": {},
   "outputs": [
    {
     "data": {
      "text/plain": [
       "2122.65"
      ]
     },
     "execution_count": 6,
     "metadata": {},
     "output_type": "execute_result"
    }
   ],
   "source": [
    "kite.ltp('NSE:ACC')['NSE:ACC']['last_price']"
   ]
  },
  {
   "cell_type": "code",
   "execution_count": 10,
   "metadata": {},
   "outputs": [],
   "source": [
    "telegram_bot_sendtext('testttttt ...')"
   ]
  },
  {
   "cell_type": "code",
   "execution_count": 12,
   "metadata": {},
   "outputs": [],
   "source": [
    "telegram_bot_sendtext('Testing algo trader...')"
   ]
  },
  {
   "cell_type": "code",
   "execution_count": 13,
   "metadata": {},
   "outputs": [],
   "source": [
    "telegram_bot_sendtext('Testing algo_trader...')"
   ]
  },
  {
   "cell_type": "code",
   "execution_count": null,
   "metadata": {},
   "outputs": [],
   "source": []
  }
 ],
 "metadata": {
  "interpreter": {
   "hash": "a70b58d0b0717763d17e698ac9762a378008016392b57496f1627e78d429c061"
  },
  "kernelspec": {
   "display_name": "Python 3.9.7 ('venv': venv)",
   "language": "python",
   "name": "python3"
  },
  "language_info": {
   "codemirror_mode": {
    "name": "ipython",
    "version": 3
   },
   "file_extension": ".py",
   "mimetype": "text/x-python",
   "name": "python",
   "nbconvert_exporter": "python",
   "pygments_lexer": "ipython3",
   "version": "3.9.7"
  },
  "orig_nbformat": 4
 },
 "nbformat": 4,
 "nbformat_minor": 2
}
